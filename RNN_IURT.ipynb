{
  "nbformat": 4,
  "nbformat_minor": 0,
  "metadata": {
    "colab": {
      "provenance": [],
      "collapsed_sections": [
        "AJ038NzqL5tb"
      ],
      "toc_visible": true
    },
    "kernelspec": {
      "name": "python3",
      "display_name": "Python 3"
    },
    "language_info": {
      "name": "python"
    },
    "accelerator": "GPU",
    "gpuClass": "standard"
  },
  "cells": [
    {
      "cell_type": "markdown",
      "source": [
        "# RNN Build\n"
      ],
      "metadata": {
        "id": "AJ038NzqL5tb"
      }
    },
    {
      "cell_type": "code",
      "execution_count": null,
      "metadata": {
        "id": "h-3BKJlPLznp"
      },
      "outputs": [],
      "source": [
        "import numpy as np\n",
        "import tensorflow as tf\n",
        "from tensorflow import keras\n",
        "from tensorflow.keras import layers"
      ]
    },
    {
      "cell_type": "code",
      "source": [
        "model = keras.Sequential()\n",
        "# Add an Embedding layer expecting input vocab of size 1000, and\n",
        "# output embedding dimension of size 64.\n",
        "model.add(layers.Embedding(input_dim=1000, output_dim=64))\n",
        "\n",
        "# Add a LSTM layer with 128 internal units.\n",
        "model.add(layers.LSTM(128))\n",
        "\n",
        "# Add a Dense layer with 10 units.\n",
        "model.add(layers.Dense(10))\n",
        "\n",
        "model.summary()"
      ],
      "metadata": {
        "colab": {
          "base_uri": "https://localhost:8080/"
        },
        "id": "Um4beN_NMgVo",
        "outputId": "c611929a-2312-4530-af4f-5321ea35fbf4"
      },
      "execution_count": null,
      "outputs": [
        {
          "output_type": "stream",
          "name": "stdout",
          "text": [
            "Model: \"sequential\"\n",
            "_________________________________________________________________\n",
            " Layer (type)                Output Shape              Param #   \n",
            "=================================================================\n",
            " embedding (Embedding)       (None, None, 64)          64000     \n",
            "                                                                 \n",
            " lstm (LSTM)                 (None, 128)               98816     \n",
            "                                                                 \n",
            " dense (Dense)               (None, 10)                1290      \n",
            "                                                                 \n",
            "=================================================================\n",
            "Total params: 164,106\n",
            "Trainable params: 164,106\n",
            "Non-trainable params: 0\n",
            "_________________________________________________________________\n"
          ]
        }
      ]
    },
    {
      "cell_type": "code",
      "source": [
        "model = keras.Sequential()\n",
        "model.add(layers.Embedding(input_dim=1000, output_dim=64))\n",
        "\n",
        "# The output of GRU will be a 3D tensor of shape (batch_size, timesteps, 256)\n",
        "model.add(layers.GRU(256, return_sequences=True))\n",
        "\n",
        "# The output of SimpleRNN will be a 2D tensor of shape (batch_size, 128)\n",
        "model.add(layers.SimpleRNN(128))\n",
        "\n",
        "model.add(layers.Dense(10))\n",
        "\n",
        "model.summary()"
      ],
      "metadata": {
        "colab": {
          "base_uri": "https://localhost:8080/"
        },
        "id": "wYMmXnpRM4bI",
        "outputId": "a54c2c52-8439-4822-cc90-23d7588ece5f"
      },
      "execution_count": null,
      "outputs": [
        {
          "output_type": "stream",
          "name": "stdout",
          "text": [
            "Model: \"sequential_1\"\n",
            "_________________________________________________________________\n",
            " Layer (type)                Output Shape              Param #   \n",
            "=================================================================\n",
            " embedding_1 (Embedding)     (None, None, 64)          64000     \n",
            "                                                                 \n",
            " gru (GRU)                   (None, None, 256)         247296    \n",
            "                                                                 \n",
            " simple_rnn (SimpleRNN)      (None, 128)               49280     \n",
            "                                                                 \n",
            " dense_1 (Dense)             (None, 10)                1290      \n",
            "                                                                 \n",
            "=================================================================\n",
            "Total params: 361,866\n",
            "Trainable params: 361,866\n",
            "Non-trainable params: 0\n",
            "_________________________________________________________________\n"
          ]
        }
      ]
    },
    {
      "cell_type": "code",
      "source": [
        "encoder_vocab = 1000\n",
        "decoder_vocab = 2000\n",
        "\n",
        "encoder_input = layers.Input(shape=(None,))\n",
        "encoder_embedded = layers.Embedding(input_dim=encoder_vocab, output_dim=64)(\n",
        "    encoder_input\n",
        ")\n",
        "\n",
        "# Return states in addition to output\n",
        "output, state_h, state_c = layers.LSTM(64, return_state=True, name=\"encoder\")(\n",
        "    encoder_embedded\n",
        ")\n",
        "encoder_state = [state_h, state_c]\n",
        "\n",
        "decoder_input = layers.Input(shape=(None,))\n",
        "decoder_embedded = layers.Embedding(input_dim=decoder_vocab, output_dim=64)(\n",
        "    decoder_input\n",
        ")\n",
        "\n",
        "# Pass the 2 states to a new LSTM layer, as initial state\n",
        "decoder_output = layers.LSTM(64, name=\"decoder\")(\n",
        "    decoder_embedded, initial_state=encoder_state\n",
        ")\n",
        "output = layers.Dense(10)(decoder_output)\n",
        "\n",
        "model = keras.Model([encoder_input, decoder_input], output)\n",
        "model.summary()"
      ],
      "metadata": {
        "colab": {
          "base_uri": "https://localhost:8080/"
        },
        "id": "1smn4-IEOq70",
        "outputId": "d2ad4675-778a-4512-ea2d-9ddd2e989832"
      },
      "execution_count": null,
      "outputs": [
        {
          "output_type": "stream",
          "name": "stdout",
          "text": [
            "Model: \"model\"\n",
            "__________________________________________________________________________________________________\n",
            " Layer (type)                   Output Shape         Param #     Connected to                     \n",
            "==================================================================================================\n",
            " input_1 (InputLayer)           [(None, None)]       0           []                               \n",
            "                                                                                                  \n",
            " input_2 (InputLayer)           [(None, None)]       0           []                               \n",
            "                                                                                                  \n",
            " embedding_2 (Embedding)        (None, None, 64)     64000       ['input_1[0][0]']                \n",
            "                                                                                                  \n",
            " embedding_3 (Embedding)        (None, None, 64)     128000      ['input_2[0][0]']                \n",
            "                                                                                                  \n",
            " encoder (LSTM)                 [(None, 64),         33024       ['embedding_2[0][0]']            \n",
            "                                 (None, 64),                                                      \n",
            "                                 (None, 64)]                                                      \n",
            "                                                                                                  \n",
            " decoder (LSTM)                 (None, 64)           33024       ['embedding_3[0][0]',            \n",
            "                                                                  'encoder[0][1]',                \n",
            "                                                                  'encoder[0][2]']                \n",
            "                                                                                                  \n",
            " dense_2 (Dense)                (None, 10)           650         ['decoder[0][0]']                \n",
            "                                                                                                  \n",
            "==================================================================================================\n",
            "Total params: 258,698\n",
            "Trainable params: 258,698\n",
            "Non-trainable params: 0\n",
            "__________________________________________________________________________________________________\n"
          ]
        }
      ]
    },
    {
      "cell_type": "code",
      "source": [
        "paragraph1 = np.random.random((20, 10, 50)).astype(np.float32)\n",
        "paragraph2 = np.random.random((20, 10, 50)).astype(np.float32)\n",
        "paragraph3 = np.random.random((20, 10, 50)).astype(np.float32)\n",
        "\n",
        "lstm_layer = layers.LSTM(64, stateful=True)\n",
        "output = lstm_layer(paragraph1)\n",
        "output = lstm_layer(paragraph2)\n",
        "output = lstm_layer(paragraph3)\n",
        "\n",
        "# reset_states() will reset the cached state to the original initial_state.\n",
        "# If no initial_state was provided, zero-states will be used by default.\n",
        "lstm_layer.reset_states()"
      ],
      "metadata": {
        "id": "2ZbgukUBROqJ"
      },
      "execution_count": null,
      "outputs": []
    },
    {
      "cell_type": "code",
      "source": [
        "model = keras.Sequential()\n",
        "\n",
        "model.add(\n",
        "    layers.Bidirectional(layers.LSTM(64, return_sequences=True), input_shape=(5, 10))\n",
        ")\n",
        "model.add(layers.Bidirectional(layers.LSTM(32)))\n",
        "model.add(layers.Dense(10))\n",
        "\n",
        "model.summary()"
      ],
      "metadata": {
        "colab": {
          "base_uri": "https://localhost:8080/"
        },
        "id": "9qt3d43NRQ1w",
        "outputId": "2353169b-0ce3-4112-dade-b8d57b6dd563"
      },
      "execution_count": null,
      "outputs": [
        {
          "output_type": "stream",
          "name": "stdout",
          "text": [
            "Model: \"sequential_2\"\n",
            "_________________________________________________________________\n",
            " Layer (type)                Output Shape              Param #   \n",
            "=================================================================\n",
            " bidirectional (Bidirectiona  (None, 5, 128)           38400     \n",
            " l)                                                              \n",
            "                                                                 \n",
            " bidirectional_1 (Bidirectio  (None, 64)               41216     \n",
            " nal)                                                            \n",
            "                                                                 \n",
            " dense_3 (Dense)             (None, 10)                650       \n",
            "                                                                 \n",
            "=================================================================\n",
            "Total params: 80,266\n",
            "Trainable params: 80,266\n",
            "Non-trainable params: 0\n",
            "_________________________________________________________________\n"
          ]
        }
      ]
    },
    {
      "cell_type": "markdown",
      "source": [
        "# LSTM Demo"
      ],
      "metadata": {
        "id": "ka2BUgSPB4U8"
      }
    },
    {
      "cell_type": "code",
      "source": [
        "import pandas as pd\n",
        "import numpy as np\n",
        "import matplotlib.pyplot as plt\n",
        "import seaborn as sns\n",
        "from sklearn import metrics\n",
        "from sklearn.preprocessing import LabelEncoder,OneHotEncoder\n",
        "from keras.models import Model\n",
        "from keras.layers import LSTM, Activation, Dense, Dropout, Input, Embedding\n",
        "from keras.optimizers import RMSprop\n",
        "from keras.preprocessing.text import Tokenizer\n",
        "from keras.preprocessing import sequence\n",
        "from keras.callbacks import EarlyStopping\n",
        "## 设置字体\n",
        "from matplotlib.font_manager import FontProperties\n",
        "fonts = FontProperties(fname = \"/Library/Fonts/华文细黑.ttf\",size=14)\n",
        "%config InlineBackend.figure_format = 'retina'\n",
        "%matplotlib inline"
      ],
      "metadata": {
        "id": "8uZbx-mAB9fl"
      },
      "execution_count": null,
      "outputs": []
    },
    {
      "cell_type": "code",
      "source": [
        "\n",
        "fonts = FontProperties(fname = \"/System/Library/Fonts/STHeiti Medium.ttc\",size=14)\n"
      ],
      "metadata": {
        "id": "mE1HAxaKDmy5"
      },
      "execution_count": null,
      "outputs": []
    },
    {
      "cell_type": "code",
      "source": [
        "from google.colab import drive\n",
        "drive.mount('/content/drive')"
      ],
      "metadata": {
        "colab": {
          "base_uri": "https://localhost:8080/"
        },
        "id": "wkJvdjTaCUZD",
        "outputId": "4e17b447-3ced-43b3-990a-f91ebf2dc8c7"
      },
      "execution_count": null,
      "outputs": [
        {
          "output_type": "stream",
          "name": "stdout",
          "text": [
            "Mounted at /content/drive\n"
          ]
        }
      ]
    },
    {
      "cell_type": "code",
      "source": [
        "train_df = pd.read_csv(\"/content/drive/MyDrive/cnews-LSTM/cnews_train.csv\")\n",
        "val_df = pd.read_csv(\"/content/drive/MyDrive/cnews-LSTM/cnews_val.csv\")\n",
        "test_df = pd.read_csv(\"/content/drive/MyDrive/cnews-LSTM/cnews_test.csv\")\n",
        "train_df.head()"
      ],
      "metadata": {
        "colab": {
          "base_uri": "https://localhost:8080/",
          "height": 337
        },
        "id": "6OkjwDWbCGVT",
        "outputId": "18adf5ca-f26d-4b83-949b-4941164d0cdd"
      },
      "execution_count": null,
      "outputs": [
        {
          "output_type": "execute_result",
          "data": {
            "text/plain": [
              "  label                                               text  \\\n",
              "0    体育  马晓旭意外受伤让国奥警惕 无奈大雨格外青睐殷家军记者傅亚雨沈阳报道 来到沈阳，国奥队依然没有...   \n",
              "1    体育  商瑞华首战复仇心切 中国玫瑰要用美国方式攻克瑞典多曼来了，瑞典来了，商瑞华首战求3分的信心也...   \n",
              "2    体育  冠军球队迎新欢乐派对 黄旭获大奖张军赢下PK赛新浪体育讯12月27日晚，“冠军高尔夫球队迎新...   \n",
              "3    体育  辽足签约危机引注册难关 高层威逼利诱合同笑里藏刀新浪体育讯2月24日，辽足爆发了集体拒签风波...   \n",
              "4    体育  揭秘谢亚龙被带走：总局电话骗局 复制南杨轨迹体坛周报特约记者张锐北京报道  谢亚龙已经被公安...   \n",
              "\n",
              "                                             cutword  cutwordnum  \n",
              "0  马晓旭 意外 受伤 国奥 警惕 无奈 大雨 格外 青睐 殷家 记者 傅亚雨 沈阳 报道 来到...         259  \n",
              "1  商瑞华 首战 复仇 心切 中国 玫瑰 美国 方式 攻克 瑞典 多曼来 瑞典 商瑞华 首战 信...         526  \n",
              "2  冠军 球队 迎新 欢乐 派对 黄旭获 大奖 张军 PK 新浪 体育讯 12 27 日晚 冠军...         610  \n",
              "3  辽足 签约 危机 注册 难关 高层 威逼利诱 合同 笑里藏刀 新浪 体育讯 24 辽足 爆发...         524  \n",
              "4  揭秘 谢亚龙 带走 总局 电话 骗局 复制 南杨 轨迹 体坛周报 特约记者 张锐 北京 报道...         282  "
            ],
            "text/html": [
              "\n",
              "  <div id=\"df-8a675087-cb00-434e-9e97-b1063f66435c\">\n",
              "    <div class=\"colab-df-container\">\n",
              "      <div>\n",
              "<style scoped>\n",
              "    .dataframe tbody tr th:only-of-type {\n",
              "        vertical-align: middle;\n",
              "    }\n",
              "\n",
              "    .dataframe tbody tr th {\n",
              "        vertical-align: top;\n",
              "    }\n",
              "\n",
              "    .dataframe thead th {\n",
              "        text-align: right;\n",
              "    }\n",
              "</style>\n",
              "<table border=\"1\" class=\"dataframe\">\n",
              "  <thead>\n",
              "    <tr style=\"text-align: right;\">\n",
              "      <th></th>\n",
              "      <th>label</th>\n",
              "      <th>text</th>\n",
              "      <th>cutword</th>\n",
              "      <th>cutwordnum</th>\n",
              "    </tr>\n",
              "  </thead>\n",
              "  <tbody>\n",
              "    <tr>\n",
              "      <th>0</th>\n",
              "      <td>体育</td>\n",
              "      <td>马晓旭意外受伤让国奥警惕 无奈大雨格外青睐殷家军记者傅亚雨沈阳报道 来到沈阳，国奥队依然没有...</td>\n",
              "      <td>马晓旭 意外 受伤 国奥 警惕 无奈 大雨 格外 青睐 殷家 记者 傅亚雨 沈阳 报道 来到...</td>\n",
              "      <td>259</td>\n",
              "    </tr>\n",
              "    <tr>\n",
              "      <th>1</th>\n",
              "      <td>体育</td>\n",
              "      <td>商瑞华首战复仇心切 中国玫瑰要用美国方式攻克瑞典多曼来了，瑞典来了，商瑞华首战求3分的信心也...</td>\n",
              "      <td>商瑞华 首战 复仇 心切 中国 玫瑰 美国 方式 攻克 瑞典 多曼来 瑞典 商瑞华 首战 信...</td>\n",
              "      <td>526</td>\n",
              "    </tr>\n",
              "    <tr>\n",
              "      <th>2</th>\n",
              "      <td>体育</td>\n",
              "      <td>冠军球队迎新欢乐派对 黄旭获大奖张军赢下PK赛新浪体育讯12月27日晚，“冠军高尔夫球队迎新...</td>\n",
              "      <td>冠军 球队 迎新 欢乐 派对 黄旭获 大奖 张军 PK 新浪 体育讯 12 27 日晚 冠军...</td>\n",
              "      <td>610</td>\n",
              "    </tr>\n",
              "    <tr>\n",
              "      <th>3</th>\n",
              "      <td>体育</td>\n",
              "      <td>辽足签约危机引注册难关 高层威逼利诱合同笑里藏刀新浪体育讯2月24日，辽足爆发了集体拒签风波...</td>\n",
              "      <td>辽足 签约 危机 注册 难关 高层 威逼利诱 合同 笑里藏刀 新浪 体育讯 24 辽足 爆发...</td>\n",
              "      <td>524</td>\n",
              "    </tr>\n",
              "    <tr>\n",
              "      <th>4</th>\n",
              "      <td>体育</td>\n",
              "      <td>揭秘谢亚龙被带走：总局电话骗局 复制南杨轨迹体坛周报特约记者张锐北京报道  谢亚龙已经被公安...</td>\n",
              "      <td>揭秘 谢亚龙 带走 总局 电话 骗局 复制 南杨 轨迹 体坛周报 特约记者 张锐 北京 报道...</td>\n",
              "      <td>282</td>\n",
              "    </tr>\n",
              "  </tbody>\n",
              "</table>\n",
              "</div>\n",
              "      <button class=\"colab-df-convert\" onclick=\"convertToInteractive('df-8a675087-cb00-434e-9e97-b1063f66435c')\"\n",
              "              title=\"Convert this dataframe to an interactive table.\"\n",
              "              style=\"display:none;\">\n",
              "        \n",
              "  <svg xmlns=\"http://www.w3.org/2000/svg\" height=\"24px\"viewBox=\"0 0 24 24\"\n",
              "       width=\"24px\">\n",
              "    <path d=\"M0 0h24v24H0V0z\" fill=\"none\"/>\n",
              "    <path d=\"M18.56 5.44l.94 2.06.94-2.06 2.06-.94-2.06-.94-.94-2.06-.94 2.06-2.06.94zm-11 1L8.5 8.5l.94-2.06 2.06-.94-2.06-.94L8.5 2.5l-.94 2.06-2.06.94zm10 10l.94 2.06.94-2.06 2.06-.94-2.06-.94-.94-2.06-.94 2.06-2.06.94z\"/><path d=\"M17.41 7.96l-1.37-1.37c-.4-.4-.92-.59-1.43-.59-.52 0-1.04.2-1.43.59L10.3 9.45l-7.72 7.72c-.78.78-.78 2.05 0 2.83L4 21.41c.39.39.9.59 1.41.59.51 0 1.02-.2 1.41-.59l7.78-7.78 2.81-2.81c.8-.78.8-2.07 0-2.86zM5.41 20L4 18.59l7.72-7.72 1.47 1.35L5.41 20z\"/>\n",
              "  </svg>\n",
              "      </button>\n",
              "      \n",
              "  <style>\n",
              "    .colab-df-container {\n",
              "      display:flex;\n",
              "      flex-wrap:wrap;\n",
              "      gap: 12px;\n",
              "    }\n",
              "\n",
              "    .colab-df-convert {\n",
              "      background-color: #E8F0FE;\n",
              "      border: none;\n",
              "      border-radius: 50%;\n",
              "      cursor: pointer;\n",
              "      display: none;\n",
              "      fill: #1967D2;\n",
              "      height: 32px;\n",
              "      padding: 0 0 0 0;\n",
              "      width: 32px;\n",
              "    }\n",
              "\n",
              "    .colab-df-convert:hover {\n",
              "      background-color: #E2EBFA;\n",
              "      box-shadow: 0px 1px 2px rgba(60, 64, 67, 0.3), 0px 1px 3px 1px rgba(60, 64, 67, 0.15);\n",
              "      fill: #174EA6;\n",
              "    }\n",
              "\n",
              "    [theme=dark] .colab-df-convert {\n",
              "      background-color: #3B4455;\n",
              "      fill: #D2E3FC;\n",
              "    }\n",
              "\n",
              "    [theme=dark] .colab-df-convert:hover {\n",
              "      background-color: #434B5C;\n",
              "      box-shadow: 0px 1px 3px 1px rgba(0, 0, 0, 0.15);\n",
              "      filter: drop-shadow(0px 1px 2px rgba(0, 0, 0, 0.3));\n",
              "      fill: #FFFFFF;\n",
              "    }\n",
              "  </style>\n",
              "\n",
              "      <script>\n",
              "        const buttonEl =\n",
              "          document.querySelector('#df-8a675087-cb00-434e-9e97-b1063f66435c button.colab-df-convert');\n",
              "        buttonEl.style.display =\n",
              "          google.colab.kernel.accessAllowed ? 'block' : 'none';\n",
              "\n",
              "        async function convertToInteractive(key) {\n",
              "          const element = document.querySelector('#df-8a675087-cb00-434e-9e97-b1063f66435c');\n",
              "          const dataTable =\n",
              "            await google.colab.kernel.invokeFunction('convertToInteractive',\n",
              "                                                     [key], {});\n",
              "          if (!dataTable) return;\n",
              "\n",
              "          const docLinkHtml = 'Like what you see? Visit the ' +\n",
              "            '<a target=\"_blank\" href=https://colab.research.google.com/notebooks/data_table.ipynb>data table notebook</a>'\n",
              "            + ' to learn more about interactive tables.';\n",
              "          element.innerHTML = '';\n",
              "          dataTable['output_type'] = 'display_data';\n",
              "          await google.colab.output.renderOutput(dataTable, element);\n",
              "          const docLink = document.createElement('div');\n",
              "          docLink.innerHTML = docLinkHtml;\n",
              "          element.appendChild(docLink);\n",
              "        }\n",
              "      </script>\n",
              "    </div>\n",
              "  </div>\n",
              "  "
            ]
          },
          "metadata": {},
          "execution_count": 6
        }
      ]
    },
    {
      "cell_type": "code",
      "source": [
        "driving_df = pd.read_csv(\"/content/drive/MyDrive/outputs_driving.csv\",index_col = False)\n",
        "legal_df = pd.read_csv(\"/content/drive/MyDrive/outputs_legal.csv\",index_col = False)\n",
        "\n",
        "driving_texts = driving_df.values.tolist()\n",
        "driving_texts = [[word for word in text if not str(word)=='nan'] for text in driving_texts]\n",
        "print(driving_texts[0:10])\n",
        "\n",
        "legal_texts = legal_df.values.tolist()\n",
        "legal_texts = [[word for word in text if not str(word)=='nan'] for text in legal_texts]\n",
        "print(legal_texts[0:10])\n"
      ],
      "metadata": {
        "colab": {
          "base_uri": "https://localhost:8080/"
        },
        "id": "LjPjLgeA2he4",
        "outputId": "4c0f5a1d-3dcc-403c-ab0a-b574f9f752f8"
      },
      "execution_count": null,
      "outputs": [
        {
          "output_type": "stream",
          "name": "stdout",
          "text": [
            "[['beyond', 'knowledge', 'technology', 'driving', 'age', 'consciousness', 'ai', 'ethics', 'via'], ['took', 'self', 'driving', 'car', 'test', 'via', 'moralmachine', 'trolleyproblem', 'morality', 'ai', 'ethics', 'moralmachine', 'net', 'moral', 'machine', 'platform', 'public', 'participation', 'discussion', 'human', 'perspective', 'machine', 'made', 'moral', 'decisions'], ['john', 'deere', 'self', 'driving', 'tractor', 'stirs', 'debate', 'ai', 'farming', 'wired', 'datascience', 'aiethics', 'robotics', 'john', 'deere', 'self', 'driving', 'tractor', 'stirs', 'debate', 'ai', 'farming', 'automation', 'control', 'resulting', 'data', 'raises', 'questions', 'role', 'human', 'farmers'], ['future', 'ai', 'hold', 'shares', 'five', 'predictions', 'covering', 'language', 'models', 'autonomous', 'driving', 'conversations', 'around', 'ai', 'ethics', 'top', 'predictions', 'ai', 'deepmind', 'tesla', 'openai'], ['future', 'ai', 'hold', 'shares', 'five', 'predictions', 'covering', 'language', 'models', 'autonomous', 'driving', 'conversations', 'around', 'ai', 'ethics', 'top', 'predictions', 'ai', 'deepmind', 'tesla', 'openai'], ['tdatascience', 'future', 'ai', 'hold', 'shares', 'five', 'predictions', 'covering', 'language', 'models', 'autonomous', 'driving', 'conversations', 'around', 'ai', 'ethics', 'top', 'predictions', 'ai', 'deepmind', 'tesla', 'openai'], ['future', 'ai', 'hold', 'shares', 'five', 'predictions', 'covering', 'language', 'models', 'autonomous', 'driving', 'conversations', 'around', 'ai', 'ethics', 'top', 'predictions', 'ai', 'deepmind', 'tesla', 'openai'], ['ai', 'choses', 'accident', 'killing', 'u', 'car', 'pedestrian', 'crossing', 'fault', 'ai', 'chooses', 'kill', 'pedestrian', 'would', 'u', 'go', 'jail', 'ai', 'decision', 'self', 'driving', 'feasible', 'law', 'ethics', 'get', 'date'], ['ai', 'choses', 'accident', 'killing', 'u', 'car', 'pedestrian', 'crossing', 'fault', 'ai', 'chooses', 'kill', 'pedestrian', 'would', 'u', 'go', 'jail', 'ai', 'decision', 'self', 'driving', 'feasible', 'law', 'ethics', 'catch'], ['ai', 'choses', 'accident', 'killing', 'u', 'car', 'pedestrian', 'crossing', 'fault', 'ai', 'chooses', 'kill', 'pedestrian', 'would', 'u', 'go', 'jail', 'ai', 'decision', 'self', 'driving', 'feasible', 'law', 'ethics', 'get', 'date']]\n",
            "[['first', 'big', 'read', 'robots', 'actually', 'carry', 'end', 'clear', 'reasoned', 'breakdown', 'debate', 'regarding', 'legal', 'personality', 'ai', 'robots', 'worth', 'price', 'admission', 'robotrights', 'aiethics'], ['new', 'openaccess', 'article', 'legal', 'aspects', 'public', 'violence', 'robots', 'published', 'international', 'journal', 'social', 'robotics', 'robotrights', 'aiethics', 'hri', 'hmc', 'kamil', 'mamak', 'article', 'violence', 'robots', 'published', 'claim', 'could', 'ban', 'public', 'violence', 'robots', 'act', 'public', 'morality', 'avoiding', 'discussion', 'moral', 'status', 'robots', 'similar', 'behaviors', 'like', 'public', 'nudity', 'swearing'], ['join', 'virtual', 'course', 'artificial', 'intelligence', 'law', 'ethics', 'understanding', 'legal', 'regulatory', 'policy', 'developments', 'related', 'artificialintelligence', 'ai', 'org', 'discounts', 'scholarships', 'avail', 'book'], ['week', 'would', 'mean', 'assign', 'legal', 'moral', 'responsibility', 'algorithms', 'human', 'form', 'josh', 'ray', 'question', 'robot', 'personhood', 'sunday', 'fm', 'san', 'francisco', 'ai', 'robots', 'ethics'], ['week', 'would', 'mean', 'assign', 'legal', 'moral', 'responsibility', 'algorithms', 'human', 'form', 'josh', 'ray', 'question', 'robot', 'personhood', 'sunday', 'fm', 'san', 'francisco', 'ai', 'robots', 'ethics'], ['new', 'virtual', 'course', 'artificial', 'intelligence', 'law', 'ethics', 'starts', 'feb', 'operation', 'impacts', 'ai', 'tech', 'legal', 'sphere', 'ethical', 'issues', 'challenges', 'ai', 'sector', 'ai', 'governance', 'regulation', 'org', 'details'], ['hear', 'nikki', 'pope', 'ai', 'legal', 'ethics', 'lead', 'talk', 'solving', 'tech', 'ethics', 'podcast', 'host', 'convergence', 'divergence', 'ai', 'ethicaltech', 'multiple', 'industries', 'multi', 'lens', 'technology', 'ethics', 'nvidia', 'nikki', 'pope', 'watch', 'tech', 'ethics', 'podcast', 'hear', 'convergence', 'divergence', 'ai', 'ethics', 'different', 'industry', 'contexts', 'subscribe', 'deloitte', 'us', 'https'], ['gradient', 'legal', 'personhood', 'ai', 'systems', 'painting', 'continental', 'legal', 'shapes', 'made', 'fit', 'analytical', 'molds', 'ai', 'ethics', 'via'], ['join', 'virtual', 'course', 'artificial', 'intelligence', 'law', 'ethics', 'understanding', 'legal', 'regulatory', 'policy', 'developments', 'related', 'artificialintelligence', 'ai', 'org', 'discounts', 'scholarships', 'avail', 'book'], ['digital', 'services', 'act', 'analysis', 'ethical', 'legal', 'social', 'implications', 'aiethics', 'law', 'legaltech', 'insurtech', 'biotech', 'healthtech', 'fintech', 'startups', 'industry40', '4ir', 'techforgood', 'technology', 'tech', 'womenintech', 'horizoneu']]\n"
          ]
        }
      ]
    },
    {
      "cell_type": "code",
      "source": [
        "labels = ['driving'] * len(driving_texts) + ['legal'] * len(legal_texts)\n",
        "print(labels)\n",
        "print(len(driving_texts))\n",
        "print(len(legal_texts))"
      ],
      "metadata": {
        "colab": {
          "base_uri": "https://localhost:8080/"
        },
        "id": "NS8AmvWu7EI7",
        "outputId": "bf52ae35-08d2-4c08-c961-b976189684e2"
      },
      "execution_count": null,
      "outputs": [
        {
          "output_type": "stream",
          "name": "stdout",
          "text": [
            "['driving', 'driving', 'driving', 'driving', 'driving', 'driving', 'driving', 'driving', 'driving', 'driving', 'driving', 'driving', 'driving', 'driving', 'driving', 'driving', 'driving', 'driving', 'driving', 'driving', 'driving', 'driving', 'driving', 'driving', 'driving', 'driving', 'driving', 'driving', 'driving', 'driving', 'driving', 'driving', 'driving', 'driving', 'driving', 'driving', 'driving', 'driving', 'driving', 'driving', 'driving', 'driving', 'driving', 'driving', 'driving', 'driving', 'driving', 'driving', 'driving', 'driving', 'driving', 'driving', 'driving', 'driving', 'driving', 'driving', 'driving', 'driving', 'driving', 'driving', 'driving', 'driving', 'driving', 'driving', 'driving', 'driving', 'driving', 'driving', 'driving', 'driving', 'driving', 'driving', 'driving', 'driving', 'driving', 'driving', 'driving', 'driving', 'driving', 'driving', 'driving', 'driving', 'driving', 'driving', 'driving', 'driving', 'driving', 'driving', 'driving', 'driving', 'driving', 'driving', 'driving', 'driving', 'driving', 'driving', 'driving', 'driving', 'driving', 'driving', 'driving', 'driving', 'driving', 'driving', 'driving', 'driving', 'driving', 'driving', 'driving', 'driving', 'driving', 'driving', 'driving', 'driving', 'driving', 'driving', 'driving', 'driving', 'driving', 'driving', 'driving', 'driving', 'driving', 'driving', 'driving', 'driving', 'driving', 'driving', 'driving', 'driving', 'driving', 'driving', 'driving', 'driving', 'driving', 'driving', 'driving', 'driving', 'driving', 'driving', 'driving', 'driving', 'driving', 'driving', 'driving', 'driving', 'driving', 'driving', 'driving', 'driving', 'driving', 'driving', 'driving', 'driving', 'driving', 'driving', 'driving', 'driving', 'driving', 'driving', 'driving', 'driving', 'driving', 'driving', 'driving', 'driving', 'driving', 'driving', 'driving', 'driving', 'driving', 'driving', 'driving', 'driving', 'driving', 'driving', 'driving', 'driving', 'driving', 'driving', 'driving', 'driving', 'driving', 'driving', 'driving', 'driving', 'driving', 'driving', 'driving', 'driving', 'driving', 'driving', 'driving', 'driving', 'driving', 'driving', 'driving', 'driving', 'driving', 'driving', 'driving', 'driving', 'driving', 'driving', 'driving', 'driving', 'driving', 'driving', 'driving', 'driving', 'driving', 'driving', 'driving', 'driving', 'driving', 'driving', 'driving', 'driving', 'driving', 'driving', 'driving', 'driving', 'driving', 'driving', 'driving', 'driving', 'driving', 'driving', 'driving', 'driving', 'driving', 'driving', 'driving', 'driving', 'driving', 'driving', 'driving', 'driving', 'driving', 'driving', 'driving', 'driving', 'driving', 'driving', 'driving', 'driving', 'driving', 'driving', 'driving', 'driving', 'driving', 'driving', 'driving', 'driving', 'driving', 'driving', 'driving', 'driving', 'driving', 'driving', 'driving', 'driving', 'driving', 'driving', 'driving', 'driving', 'driving', 'driving', 'driving', 'driving', 'driving', 'driving', 'driving', 'driving', 'driving', 'driving', 'driving', 'driving', 'driving', 'driving', 'driving', 'driving', 'driving', 'driving', 'driving', 'driving', 'driving', 'driving', 'driving', 'driving', 'driving', 'driving', 'driving', 'driving', 'driving', 'driving', 'driving', 'driving', 'driving', 'driving', 'driving', 'driving', 'driving', 'driving', 'driving', 'driving', 'driving', 'driving', 'driving', 'driving', 'driving', 'driving', 'driving', 'driving', 'driving', 'driving', 'driving', 'driving', 'driving', 'driving', 'driving', 'driving', 'driving', 'driving', 'driving', 'driving', 'driving', 'driving', 'driving', 'driving', 'driving', 'driving', 'driving', 'driving', 'driving', 'driving', 'driving', 'driving', 'driving', 'driving', 'driving', 'driving', 'driving', 'driving', 'driving', 'driving', 'driving', 'driving', 'driving', 'driving', 'driving', 'driving', 'driving', 'driving', 'driving', 'driving', 'driving', 'driving', 'driving', 'driving', 'driving', 'driving', 'driving', 'driving', 'driving', 'driving', 'driving', 'driving', 'driving', 'driving', 'driving', 'driving', 'driving', 'driving', 'driving', 'driving', 'driving', 'driving', 'driving', 'driving', 'driving', 'driving', 'driving', 'driving', 'driving', 'driving', 'driving', 'driving', 'driving', 'driving', 'driving', 'driving', 'driving', 'driving', 'driving', 'driving', 'driving', 'driving', 'driving', 'driving', 'driving', 'driving', 'driving', 'driving', 'driving', 'driving', 'driving', 'driving', 'driving', 'driving', 'driving', 'driving', 'driving', 'driving', 'driving', 'driving', 'driving', 'driving', 'driving', 'driving', 'driving', 'driving', 'driving', 'driving', 'driving', 'driving', 'driving', 'driving', 'driving', 'driving', 'driving', 'driving', 'driving', 'driving', 'driving', 'driving', 'driving', 'driving', 'driving', 'driving', 'driving', 'driving', 'driving', 'driving', 'driving', 'driving', 'driving', 'driving', 'driving', 'driving', 'driving', 'driving', 'driving', 'driving', 'driving', 'driving', 'driving', 'driving', 'driving', 'driving', 'driving', 'driving', 'driving', 'driving', 'driving', 'driving', 'driving', 'driving', 'driving', 'driving', 'driving', 'driving', 'driving', 'driving', 'driving', 'driving', 'driving', 'driving', 'driving', 'driving', 'driving', 'driving', 'driving', 'driving', 'driving', 'driving', 'driving', 'driving', 'driving', 'driving', 'driving', 'driving', 'driving', 'driving', 'driving', 'driving', 'driving', 'driving', 'driving', 'driving', 'driving', 'driving', 'driving', 'driving', 'driving', 'driving', 'driving', 'driving', 'driving', 'driving', 'driving', 'driving', 'driving', 'driving', 'driving', 'driving', 'driving', 'driving', 'driving', 'driving', 'driving', 'driving', 'driving', 'driving', 'driving', 'driving', 'driving', 'driving', 'driving', 'driving', 'driving', 'driving', 'driving', 'driving', 'driving', 'driving', 'driving', 'driving', 'driving', 'driving', 'driving', 'driving', 'driving', 'driving', 'driving', 'driving', 'driving', 'driving', 'driving', 'driving', 'driving', 'driving', 'driving', 'driving', 'driving', 'driving', 'driving', 'driving', 'driving', 'driving', 'driving', 'driving', 'driving', 'driving', 'driving', 'driving', 'driving', 'driving', 'driving', 'driving', 'driving', 'driving', 'driving', 'driving', 'driving', 'driving', 'driving', 'driving', 'driving', 'driving', 'driving', 'driving', 'driving', 'driving', 'driving', 'driving', 'driving', 'driving', 'driving', 'driving', 'driving', 'driving', 'driving', 'driving', 'driving', 'driving', 'driving', 'driving', 'driving', 'driving', 'driving', 'driving', 'driving', 'driving', 'driving', 'driving', 'driving', 'driving', 'driving', 'driving', 'driving', 'driving', 'driving', 'driving', 'driving', 'driving', 'driving', 'driving', 'driving', 'driving', 'driving', 'driving', 'driving', 'driving', 'driving', 'driving', 'driving', 'driving', 'driving', 'driving', 'driving', 'driving', 'driving', 'driving', 'driving', 'driving', 'driving', 'driving', 'driving', 'driving', 'driving', 'driving', 'driving', 'driving', 'driving', 'driving', 'driving', 'driving', 'driving', 'driving', 'driving', 'driving', 'driving', 'driving', 'driving', 'driving', 'driving', 'driving', 'driving', 'driving', 'driving', 'driving', 'driving', 'driving', 'driving', 'driving', 'driving', 'driving', 'driving', 'driving', 'driving', 'driving', 'driving', 'driving', 'driving', 'driving', 'driving', 'driving', 'driving', 'driving', 'driving', 'driving', 'driving', 'driving', 'driving', 'driving', 'driving', 'driving', 'driving', 'driving', 'driving', 'driving', 'driving', 'driving', 'driving', 'driving', 'driving', 'driving', 'driving', 'driving', 'driving', 'driving', 'driving', 'driving', 'driving', 'driving', 'driving', 'driving', 'driving', 'driving', 'driving', 'driving', 'driving', 'driving', 'driving', 'driving', 'driving', 'driving', 'driving', 'driving', 'driving', 'driving', 'driving', 'driving', 'driving', 'driving', 'driving', 'driving', 'legal', 'legal', 'legal', 'legal', 'legal', 'legal', 'legal', 'legal', 'legal', 'legal', 'legal', 'legal', 'legal', 'legal', 'legal', 'legal', 'legal', 'legal', 'legal', 'legal', 'legal', 'legal', 'legal', 'legal', 'legal', 'legal', 'legal', 'legal', 'legal', 'legal', 'legal', 'legal', 'legal', 'legal', 'legal', 'legal', 'legal', 'legal', 'legal', 'legal', 'legal', 'legal', 'legal', 'legal', 'legal', 'legal', 'legal', 'legal', 'legal', 'legal', 'legal', 'legal', 'legal', 'legal', 'legal', 'legal', 'legal', 'legal', 'legal', 'legal', 'legal', 'legal', 'legal', 'legal', 'legal', 'legal', 'legal', 'legal', 'legal', 'legal', 'legal', 'legal', 'legal', 'legal', 'legal', 'legal', 'legal', 'legal', 'legal', 'legal', 'legal', 'legal', 'legal', 'legal', 'legal', 'legal', 'legal', 'legal', 'legal', 'legal', 'legal', 'legal', 'legal', 'legal', 'legal', 'legal', 'legal', 'legal', 'legal', 'legal', 'legal', 'legal', 'legal', 'legal', 'legal', 'legal', 'legal', 'legal', 'legal', 'legal', 'legal', 'legal', 'legal', 'legal', 'legal', 'legal', 'legal', 'legal', 'legal', 'legal', 'legal', 'legal', 'legal', 'legal', 'legal', 'legal', 'legal', 'legal', 'legal', 'legal', 'legal', 'legal', 'legal', 'legal', 'legal', 'legal', 'legal', 'legal', 'legal', 'legal', 'legal', 'legal', 'legal', 'legal', 'legal', 'legal', 'legal', 'legal', 'legal', 'legal', 'legal', 'legal', 'legal', 'legal', 'legal', 'legal', 'legal', 'legal', 'legal', 'legal', 'legal', 'legal', 'legal', 'legal', 'legal', 'legal', 'legal', 'legal', 'legal', 'legal', 'legal', 'legal', 'legal', 'legal', 'legal', 'legal', 'legal', 'legal', 'legal', 'legal', 'legal', 'legal', 'legal', 'legal', 'legal', 'legal', 'legal', 'legal', 'legal', 'legal', 'legal', 'legal', 'legal', 'legal', 'legal', 'legal', 'legal', 'legal', 'legal', 'legal', 'legal', 'legal', 'legal', 'legal', 'legal', 'legal', 'legal', 'legal', 'legal', 'legal', 'legal', 'legal', 'legal', 'legal', 'legal', 'legal', 'legal', 'legal', 'legal', 'legal', 'legal', 'legal', 'legal', 'legal', 'legal', 'legal', 'legal', 'legal', 'legal', 'legal', 'legal', 'legal', 'legal', 'legal', 'legal', 'legal', 'legal', 'legal', 'legal', 'legal', 'legal', 'legal', 'legal', 'legal', 'legal', 'legal', 'legal', 'legal', 'legal', 'legal', 'legal', 'legal', 'legal', 'legal', 'legal', 'legal', 'legal', 'legal', 'legal', 'legal', 'legal', 'legal', 'legal', 'legal', 'legal', 'legal', 'legal', 'legal', 'legal', 'legal', 'legal', 'legal', 'legal', 'legal', 'legal', 'legal', 'legal', 'legal', 'legal', 'legal', 'legal', 'legal', 'legal', 'legal', 'legal', 'legal', 'legal', 'legal', 'legal', 'legal', 'legal', 'legal', 'legal', 'legal', 'legal', 'legal', 'legal', 'legal', 'legal', 'legal', 'legal', 'legal', 'legal', 'legal', 'legal', 'legal', 'legal', 'legal', 'legal', 'legal', 'legal', 'legal', 'legal', 'legal', 'legal', 'legal', 'legal', 'legal', 'legal', 'legal', 'legal', 'legal', 'legal', 'legal', 'legal', 'legal', 'legal', 'legal', 'legal', 'legal', 'legal', 'legal', 'legal', 'legal', 'legal', 'legal', 'legal', 'legal', 'legal', 'legal', 'legal', 'legal', 'legal', 'legal', 'legal', 'legal', 'legal', 'legal', 'legal', 'legal', 'legal', 'legal', 'legal', 'legal', 'legal', 'legal', 'legal', 'legal', 'legal', 'legal', 'legal', 'legal', 'legal', 'legal', 'legal', 'legal', 'legal', 'legal', 'legal', 'legal', 'legal', 'legal', 'legal', 'legal', 'legal', 'legal', 'legal', 'legal', 'legal', 'legal', 'legal', 'legal', 'legal', 'legal', 'legal', 'legal', 'legal', 'legal', 'legal', 'legal', 'legal', 'legal', 'legal', 'legal', 'legal', 'legal', 'legal', 'legal', 'legal', 'legal', 'legal', 'legal', 'legal', 'legal', 'legal', 'legal', 'legal', 'legal', 'legal', 'legal', 'legal', 'legal', 'legal', 'legal', 'legal', 'legal', 'legal', 'legal', 'legal', 'legal', 'legal', 'legal', 'legal', 'legal', 'legal', 'legal', 'legal', 'legal', 'legal', 'legal', 'legal', 'legal', 'legal', 'legal', 'legal', 'legal', 'legal', 'legal', 'legal', 'legal', 'legal', 'legal', 'legal', 'legal', 'legal', 'legal', 'legal', 'legal', 'legal', 'legal', 'legal', 'legal', 'legal', 'legal', 'legal', 'legal', 'legal', 'legal', 'legal', 'legal', 'legal', 'legal', 'legal', 'legal', 'legal', 'legal', 'legal', 'legal', 'legal', 'legal', 'legal', 'legal', 'legal', 'legal', 'legal', 'legal', 'legal', 'legal', 'legal', 'legal', 'legal', 'legal', 'legal', 'legal', 'legal', 'legal', 'legal', 'legal', 'legal', 'legal', 'legal', 'legal', 'legal', 'legal', 'legal', 'legal', 'legal', 'legal', 'legal', 'legal', 'legal', 'legal', 'legal', 'legal', 'legal', 'legal', 'legal', 'legal', 'legal', 'legal', 'legal', 'legal', 'legal', 'legal', 'legal', 'legal', 'legal', 'legal', 'legal', 'legal', 'legal', 'legal', 'legal', 'legal', 'legal', 'legal', 'legal', 'legal', 'legal', 'legal', 'legal', 'legal', 'legal', 'legal', 'legal', 'legal', 'legal', 'legal', 'legal', 'legal', 'legal', 'legal', 'legal', 'legal', 'legal', 'legal', 'legal', 'legal', 'legal', 'legal', 'legal', 'legal', 'legal', 'legal', 'legal', 'legal', 'legal', 'legal', 'legal', 'legal', 'legal', 'legal', 'legal', 'legal', 'legal', 'legal', 'legal', 'legal', 'legal', 'legal', 'legal', 'legal', 'legal', 'legal', 'legal', 'legal', 'legal', 'legal', 'legal', 'legal', 'legal', 'legal', 'legal', 'legal', 'legal', 'legal', 'legal', 'legal', 'legal', 'legal', 'legal', 'legal', 'legal', 'legal', 'legal', 'legal', 'legal', 'legal', 'legal', 'legal', 'legal', 'legal', 'legal', 'legal', 'legal', 'legal', 'legal', 'legal', 'legal', 'legal', 'legal', 'legal', 'legal', 'legal', 'legal', 'legal', 'legal', 'legal', 'legal', 'legal', 'legal', 'legal', 'legal', 'legal', 'legal', 'legal', 'legal', 'legal', 'legal', 'legal', 'legal', 'legal', 'legal', 'legal', 'legal', 'legal', 'legal', 'legal', 'legal', 'legal', 'legal', 'legal', 'legal', 'legal', 'legal', 'legal', 'legal', 'legal', 'legal', 'legal', 'legal', 'legal', 'legal', 'legal', 'legal', 'legal', 'legal', 'legal', 'legal', 'legal', 'legal', 'legal', 'legal', 'legal', 'legal', 'legal', 'legal', 'legal', 'legal', 'legal', 'legal', 'legal', 'legal', 'legal', 'legal', 'legal', 'legal', 'legal', 'legal', 'legal', 'legal', 'legal', 'legal', 'legal', 'legal', 'legal', 'legal', 'legal', 'legal', 'legal', 'legal', 'legal', 'legal', 'legal', 'legal', 'legal', 'legal', 'legal', 'legal', 'legal', 'legal', 'legal', 'legal', 'legal', 'legal', 'legal', 'legal', 'legal', 'legal', 'legal', 'legal', 'legal', 'legal', 'legal', 'legal', 'legal', 'legal', 'legal', 'legal', 'legal', 'legal', 'legal', 'legal', 'legal', 'legal', 'legal', 'legal', 'legal', 'legal', 'legal', 'legal', 'legal', 'legal', 'legal', 'legal', 'legal', 'legal', 'legal', 'legal', 'legal', 'legal', 'legal', 'legal', 'legal', 'legal', 'legal', 'legal', 'legal', 'legal', 'legal', 'legal', 'legal', 'legal', 'legal', 'legal', 'legal', 'legal', 'legal', 'legal', 'legal', 'legal', 'legal', 'legal', 'legal', 'legal', 'legal', 'legal', 'legal']\n",
            "728\n",
            "768\n"
          ]
        }
      ]
    },
    {
      "cell_type": "code",
      "source": [
        "texts = driving_texts + legal_texts\n",
        "data = pd.DataFrame({'texts':texts, 'labels':labels})\n",
        "data.head()"
      ],
      "metadata": {
        "colab": {
          "base_uri": "https://localhost:8080/",
          "height": 206
        },
        "id": "E_4RaMUe7a4_",
        "outputId": "fefb1044-245a-461c-b583-2dcba723fe98"
      },
      "execution_count": null,
      "outputs": [
        {
          "output_type": "execute_result",
          "data": {
            "text/plain": [
              "                                               texts   labels\n",
              "0  [beyond, knowledge, technology, driving, age, ...  driving\n",
              "1  [took, self, driving, car, test, via, moralmac...  driving\n",
              "2  [john, deere, self, driving, tractor, stirs, d...  driving\n",
              "3  [future, ai, hold, shares, five, predictions, ...  driving\n",
              "4  [future, ai, hold, shares, five, predictions, ...  driving"
            ],
            "text/html": [
              "\n",
              "  <div id=\"df-b579986d-c796-46fd-a2f7-eb9f832b7bca\">\n",
              "    <div class=\"colab-df-container\">\n",
              "      <div>\n",
              "<style scoped>\n",
              "    .dataframe tbody tr th:only-of-type {\n",
              "        vertical-align: middle;\n",
              "    }\n",
              "\n",
              "    .dataframe tbody tr th {\n",
              "        vertical-align: top;\n",
              "    }\n",
              "\n",
              "    .dataframe thead th {\n",
              "        text-align: right;\n",
              "    }\n",
              "</style>\n",
              "<table border=\"1\" class=\"dataframe\">\n",
              "  <thead>\n",
              "    <tr style=\"text-align: right;\">\n",
              "      <th></th>\n",
              "      <th>texts</th>\n",
              "      <th>labels</th>\n",
              "    </tr>\n",
              "  </thead>\n",
              "  <tbody>\n",
              "    <tr>\n",
              "      <th>0</th>\n",
              "      <td>[beyond, knowledge, technology, driving, age, ...</td>\n",
              "      <td>driving</td>\n",
              "    </tr>\n",
              "    <tr>\n",
              "      <th>1</th>\n",
              "      <td>[took, self, driving, car, test, via, moralmac...</td>\n",
              "      <td>driving</td>\n",
              "    </tr>\n",
              "    <tr>\n",
              "      <th>2</th>\n",
              "      <td>[john, deere, self, driving, tractor, stirs, d...</td>\n",
              "      <td>driving</td>\n",
              "    </tr>\n",
              "    <tr>\n",
              "      <th>3</th>\n",
              "      <td>[future, ai, hold, shares, five, predictions, ...</td>\n",
              "      <td>driving</td>\n",
              "    </tr>\n",
              "    <tr>\n",
              "      <th>4</th>\n",
              "      <td>[future, ai, hold, shares, five, predictions, ...</td>\n",
              "      <td>driving</td>\n",
              "    </tr>\n",
              "  </tbody>\n",
              "</table>\n",
              "</div>\n",
              "      <button class=\"colab-df-convert\" onclick=\"convertToInteractive('df-b579986d-c796-46fd-a2f7-eb9f832b7bca')\"\n",
              "              title=\"Convert this dataframe to an interactive table.\"\n",
              "              style=\"display:none;\">\n",
              "        \n",
              "  <svg xmlns=\"http://www.w3.org/2000/svg\" height=\"24px\"viewBox=\"0 0 24 24\"\n",
              "       width=\"24px\">\n",
              "    <path d=\"M0 0h24v24H0V0z\" fill=\"none\"/>\n",
              "    <path d=\"M18.56 5.44l.94 2.06.94-2.06 2.06-.94-2.06-.94-.94-2.06-.94 2.06-2.06.94zm-11 1L8.5 8.5l.94-2.06 2.06-.94-2.06-.94L8.5 2.5l-.94 2.06-2.06.94zm10 10l.94 2.06.94-2.06 2.06-.94-2.06-.94-.94-2.06-.94 2.06-2.06.94z\"/><path d=\"M17.41 7.96l-1.37-1.37c-.4-.4-.92-.59-1.43-.59-.52 0-1.04.2-1.43.59L10.3 9.45l-7.72 7.72c-.78.78-.78 2.05 0 2.83L4 21.41c.39.39.9.59 1.41.59.51 0 1.02-.2 1.41-.59l7.78-7.78 2.81-2.81c.8-.78.8-2.07 0-2.86zM5.41 20L4 18.59l7.72-7.72 1.47 1.35L5.41 20z\"/>\n",
              "  </svg>\n",
              "      </button>\n",
              "      \n",
              "  <style>\n",
              "    .colab-df-container {\n",
              "      display:flex;\n",
              "      flex-wrap:wrap;\n",
              "      gap: 12px;\n",
              "    }\n",
              "\n",
              "    .colab-df-convert {\n",
              "      background-color: #E8F0FE;\n",
              "      border: none;\n",
              "      border-radius: 50%;\n",
              "      cursor: pointer;\n",
              "      display: none;\n",
              "      fill: #1967D2;\n",
              "      height: 32px;\n",
              "      padding: 0 0 0 0;\n",
              "      width: 32px;\n",
              "    }\n",
              "\n",
              "    .colab-df-convert:hover {\n",
              "      background-color: #E2EBFA;\n",
              "      box-shadow: 0px 1px 2px rgba(60, 64, 67, 0.3), 0px 1px 3px 1px rgba(60, 64, 67, 0.15);\n",
              "      fill: #174EA6;\n",
              "    }\n",
              "\n",
              "    [theme=dark] .colab-df-convert {\n",
              "      background-color: #3B4455;\n",
              "      fill: #D2E3FC;\n",
              "    }\n",
              "\n",
              "    [theme=dark] .colab-df-convert:hover {\n",
              "      background-color: #434B5C;\n",
              "      box-shadow: 0px 1px 3px 1px rgba(0, 0, 0, 0.15);\n",
              "      filter: drop-shadow(0px 1px 2px rgba(0, 0, 0, 0.3));\n",
              "      fill: #FFFFFF;\n",
              "    }\n",
              "  </style>\n",
              "\n",
              "      <script>\n",
              "        const buttonEl =\n",
              "          document.querySelector('#df-b579986d-c796-46fd-a2f7-eb9f832b7bca button.colab-df-convert');\n",
              "        buttonEl.style.display =\n",
              "          google.colab.kernel.accessAllowed ? 'block' : 'none';\n",
              "\n",
              "        async function convertToInteractive(key) {\n",
              "          const element = document.querySelector('#df-b579986d-c796-46fd-a2f7-eb9f832b7bca');\n",
              "          const dataTable =\n",
              "            await google.colab.kernel.invokeFunction('convertToInteractive',\n",
              "                                                     [key], {});\n",
              "          if (!dataTable) return;\n",
              "\n",
              "          const docLinkHtml = 'Like what you see? Visit the ' +\n",
              "            '<a target=\"_blank\" href=https://colab.research.google.com/notebooks/data_table.ipynb>data table notebook</a>'\n",
              "            + ' to learn more about interactive tables.';\n",
              "          element.innerHTML = '';\n",
              "          dataTable['output_type'] = 'display_data';\n",
              "          await google.colab.output.renderOutput(dataTable, element);\n",
              "          const docLink = document.createElement('div');\n",
              "          docLink.innerHTML = docLinkHtml;\n",
              "          element.appendChild(docLink);\n",
              "        }\n",
              "      </script>\n",
              "    </div>\n",
              "  </div>\n",
              "  "
            ]
          },
          "metadata": {},
          "execution_count": 19
        }
      ]
    },
    {
      "cell_type": "code",
      "source": [
        "from sklearn.utils import shuffle\n",
        "data = shuffle(data)\n",
        "data.head()"
      ],
      "metadata": {
        "colab": {
          "base_uri": "https://localhost:8080/",
          "height": 206
        },
        "id": "xBBHFeSD8olF",
        "outputId": "ba15a7bc-5004-446b-8854-d27469ed7bdb"
      },
      "execution_count": null,
      "outputs": [
        {
          "output_type": "execute_result",
          "data": {
            "text/plain": [
              "                                                  texts   labels\n",
              "312   [ai, startups, finally, getting, onboard, ai, ...  driving\n",
              "1233  [completely, agree, looking, ai, cars, easy, t...    legal\n",
              "1489  [trending, legal, strategic, visions, ethics, ...    legal\n",
              "716   [interesting, interview, industry, capture, cs...  driving\n",
              "1102  [article, stanford, launches, ai, audit, chall...    legal"
            ],
            "text/html": [
              "\n",
              "  <div id=\"df-31a222cd-c385-43f4-ba65-6139ebbb93b6\">\n",
              "    <div class=\"colab-df-container\">\n",
              "      <div>\n",
              "<style scoped>\n",
              "    .dataframe tbody tr th:only-of-type {\n",
              "        vertical-align: middle;\n",
              "    }\n",
              "\n",
              "    .dataframe tbody tr th {\n",
              "        vertical-align: top;\n",
              "    }\n",
              "\n",
              "    .dataframe thead th {\n",
              "        text-align: right;\n",
              "    }\n",
              "</style>\n",
              "<table border=\"1\" class=\"dataframe\">\n",
              "  <thead>\n",
              "    <tr style=\"text-align: right;\">\n",
              "      <th></th>\n",
              "      <th>texts</th>\n",
              "      <th>labels</th>\n",
              "    </tr>\n",
              "  </thead>\n",
              "  <tbody>\n",
              "    <tr>\n",
              "      <th>312</th>\n",
              "      <td>[ai, startups, finally, getting, onboard, ai, ...</td>\n",
              "      <td>driving</td>\n",
              "    </tr>\n",
              "    <tr>\n",
              "      <th>1233</th>\n",
              "      <td>[completely, agree, looking, ai, cars, easy, t...</td>\n",
              "      <td>legal</td>\n",
              "    </tr>\n",
              "    <tr>\n",
              "      <th>1489</th>\n",
              "      <td>[trending, legal, strategic, visions, ethics, ...</td>\n",
              "      <td>legal</td>\n",
              "    </tr>\n",
              "    <tr>\n",
              "      <th>716</th>\n",
              "      <td>[interesting, interview, industry, capture, cs...</td>\n",
              "      <td>driving</td>\n",
              "    </tr>\n",
              "    <tr>\n",
              "      <th>1102</th>\n",
              "      <td>[article, stanford, launches, ai, audit, chall...</td>\n",
              "      <td>legal</td>\n",
              "    </tr>\n",
              "  </tbody>\n",
              "</table>\n",
              "</div>\n",
              "      <button class=\"colab-df-convert\" onclick=\"convertToInteractive('df-31a222cd-c385-43f4-ba65-6139ebbb93b6')\"\n",
              "              title=\"Convert this dataframe to an interactive table.\"\n",
              "              style=\"display:none;\">\n",
              "        \n",
              "  <svg xmlns=\"http://www.w3.org/2000/svg\" height=\"24px\"viewBox=\"0 0 24 24\"\n",
              "       width=\"24px\">\n",
              "    <path d=\"M0 0h24v24H0V0z\" fill=\"none\"/>\n",
              "    <path d=\"M18.56 5.44l.94 2.06.94-2.06 2.06-.94-2.06-.94-.94-2.06-.94 2.06-2.06.94zm-11 1L8.5 8.5l.94-2.06 2.06-.94-2.06-.94L8.5 2.5l-.94 2.06-2.06.94zm10 10l.94 2.06.94-2.06 2.06-.94-2.06-.94-.94-2.06-.94 2.06-2.06.94z\"/><path d=\"M17.41 7.96l-1.37-1.37c-.4-.4-.92-.59-1.43-.59-.52 0-1.04.2-1.43.59L10.3 9.45l-7.72 7.72c-.78.78-.78 2.05 0 2.83L4 21.41c.39.39.9.59 1.41.59.51 0 1.02-.2 1.41-.59l7.78-7.78 2.81-2.81c.8-.78.8-2.07 0-2.86zM5.41 20L4 18.59l7.72-7.72 1.47 1.35L5.41 20z\"/>\n",
              "  </svg>\n",
              "      </button>\n",
              "      \n",
              "  <style>\n",
              "    .colab-df-container {\n",
              "      display:flex;\n",
              "      flex-wrap:wrap;\n",
              "      gap: 12px;\n",
              "    }\n",
              "\n",
              "    .colab-df-convert {\n",
              "      background-color: #E8F0FE;\n",
              "      border: none;\n",
              "      border-radius: 50%;\n",
              "      cursor: pointer;\n",
              "      display: none;\n",
              "      fill: #1967D2;\n",
              "      height: 32px;\n",
              "      padding: 0 0 0 0;\n",
              "      width: 32px;\n",
              "    }\n",
              "\n",
              "    .colab-df-convert:hover {\n",
              "      background-color: #E2EBFA;\n",
              "      box-shadow: 0px 1px 2px rgba(60, 64, 67, 0.3), 0px 1px 3px 1px rgba(60, 64, 67, 0.15);\n",
              "      fill: #174EA6;\n",
              "    }\n",
              "\n",
              "    [theme=dark] .colab-df-convert {\n",
              "      background-color: #3B4455;\n",
              "      fill: #D2E3FC;\n",
              "    }\n",
              "\n",
              "    [theme=dark] .colab-df-convert:hover {\n",
              "      background-color: #434B5C;\n",
              "      box-shadow: 0px 1px 3px 1px rgba(0, 0, 0, 0.15);\n",
              "      filter: drop-shadow(0px 1px 2px rgba(0, 0, 0, 0.3));\n",
              "      fill: #FFFFFF;\n",
              "    }\n",
              "  </style>\n",
              "\n",
              "      <script>\n",
              "        const buttonEl =\n",
              "          document.querySelector('#df-31a222cd-c385-43f4-ba65-6139ebbb93b6 button.colab-df-convert');\n",
              "        buttonEl.style.display =\n",
              "          google.colab.kernel.accessAllowed ? 'block' : 'none';\n",
              "\n",
              "        async function convertToInteractive(key) {\n",
              "          const element = document.querySelector('#df-31a222cd-c385-43f4-ba65-6139ebbb93b6');\n",
              "          const dataTable =\n",
              "            await google.colab.kernel.invokeFunction('convertToInteractive',\n",
              "                                                     [key], {});\n",
              "          if (!dataTable) return;\n",
              "\n",
              "          const docLinkHtml = 'Like what you see? Visit the ' +\n",
              "            '<a target=\"_blank\" href=https://colab.research.google.com/notebooks/data_table.ipynb>data table notebook</a>'\n",
              "            + ' to learn more about interactive tables.';\n",
              "          element.innerHTML = '';\n",
              "          dataTable['output_type'] = 'display_data';\n",
              "          await google.colab.output.renderOutput(dataTable, element);\n",
              "          const docLink = document.createElement('div');\n",
              "          docLink.innerHTML = docLinkHtml;\n",
              "          element.appendChild(docLink);\n",
              "        }\n",
              "      </script>\n",
              "    </div>\n",
              "  </div>\n",
              "  "
            ]
          },
          "metadata": {},
          "execution_count": 20
        }
      ]
    },
    {
      "cell_type": "code",
      "source": [
        "train_data = data.sample(frac = 0.8, random_state = 0, axis = 0)\n",
        "train_data.head()"
      ],
      "metadata": {
        "colab": {
          "base_uri": "https://localhost:8080/",
          "height": 206
        },
        "id": "SShv3K3w8994",
        "outputId": "18614bda-d8b6-42cf-eec1-aa8e83df32ec"
      },
      "execution_count": null,
      "outputs": [
        {
          "output_type": "execute_result",
          "data": {
            "text/plain": [
              "                                                  texts   labels\n",
              "1357  [legal, personhood, ai, taking, sneaky, path, ...    legal\n",
              "1049  [twitter, ai, ethics, director, locked, legal,...    legal\n",
              "1289  [ai, law, ai, ethics, giving, thumbs, ai, snif...    legal\n",
              "121   [self, driving, car, kill, baby, grandma, depe...  driving\n",
              "13    [latest, jolting, ai, ethics, concern, ai, ine...  driving"
            ],
            "text/html": [
              "\n",
              "  <div id=\"df-5aa9dae4-6566-41cf-99e9-bec00b8a9efa\">\n",
              "    <div class=\"colab-df-container\">\n",
              "      <div>\n",
              "<style scoped>\n",
              "    .dataframe tbody tr th:only-of-type {\n",
              "        vertical-align: middle;\n",
              "    }\n",
              "\n",
              "    .dataframe tbody tr th {\n",
              "        vertical-align: top;\n",
              "    }\n",
              "\n",
              "    .dataframe thead th {\n",
              "        text-align: right;\n",
              "    }\n",
              "</style>\n",
              "<table border=\"1\" class=\"dataframe\">\n",
              "  <thead>\n",
              "    <tr style=\"text-align: right;\">\n",
              "      <th></th>\n",
              "      <th>texts</th>\n",
              "      <th>labels</th>\n",
              "    </tr>\n",
              "  </thead>\n",
              "  <tbody>\n",
              "    <tr>\n",
              "      <th>1357</th>\n",
              "      <td>[legal, personhood, ai, taking, sneaky, path, ...</td>\n",
              "      <td>legal</td>\n",
              "    </tr>\n",
              "    <tr>\n",
              "      <th>1049</th>\n",
              "      <td>[twitter, ai, ethics, director, locked, legal,...</td>\n",
              "      <td>legal</td>\n",
              "    </tr>\n",
              "    <tr>\n",
              "      <th>1289</th>\n",
              "      <td>[ai, law, ai, ethics, giving, thumbs, ai, snif...</td>\n",
              "      <td>legal</td>\n",
              "    </tr>\n",
              "    <tr>\n",
              "      <th>121</th>\n",
              "      <td>[self, driving, car, kill, baby, grandma, depe...</td>\n",
              "      <td>driving</td>\n",
              "    </tr>\n",
              "    <tr>\n",
              "      <th>13</th>\n",
              "      <td>[latest, jolting, ai, ethics, concern, ai, ine...</td>\n",
              "      <td>driving</td>\n",
              "    </tr>\n",
              "  </tbody>\n",
              "</table>\n",
              "</div>\n",
              "      <button class=\"colab-df-convert\" onclick=\"convertToInteractive('df-5aa9dae4-6566-41cf-99e9-bec00b8a9efa')\"\n",
              "              title=\"Convert this dataframe to an interactive table.\"\n",
              "              style=\"display:none;\">\n",
              "        \n",
              "  <svg xmlns=\"http://www.w3.org/2000/svg\" height=\"24px\"viewBox=\"0 0 24 24\"\n",
              "       width=\"24px\">\n",
              "    <path d=\"M0 0h24v24H0V0z\" fill=\"none\"/>\n",
              "    <path d=\"M18.56 5.44l.94 2.06.94-2.06 2.06-.94-2.06-.94-.94-2.06-.94 2.06-2.06.94zm-11 1L8.5 8.5l.94-2.06 2.06-.94-2.06-.94L8.5 2.5l-.94 2.06-2.06.94zm10 10l.94 2.06.94-2.06 2.06-.94-2.06-.94-.94-2.06-.94 2.06-2.06.94z\"/><path d=\"M17.41 7.96l-1.37-1.37c-.4-.4-.92-.59-1.43-.59-.52 0-1.04.2-1.43.59L10.3 9.45l-7.72 7.72c-.78.78-.78 2.05 0 2.83L4 21.41c.39.39.9.59 1.41.59.51 0 1.02-.2 1.41-.59l7.78-7.78 2.81-2.81c.8-.78.8-2.07 0-2.86zM5.41 20L4 18.59l7.72-7.72 1.47 1.35L5.41 20z\"/>\n",
              "  </svg>\n",
              "      </button>\n",
              "      \n",
              "  <style>\n",
              "    .colab-df-container {\n",
              "      display:flex;\n",
              "      flex-wrap:wrap;\n",
              "      gap: 12px;\n",
              "    }\n",
              "\n",
              "    .colab-df-convert {\n",
              "      background-color: #E8F0FE;\n",
              "      border: none;\n",
              "      border-radius: 50%;\n",
              "      cursor: pointer;\n",
              "      display: none;\n",
              "      fill: #1967D2;\n",
              "      height: 32px;\n",
              "      padding: 0 0 0 0;\n",
              "      width: 32px;\n",
              "    }\n",
              "\n",
              "    .colab-df-convert:hover {\n",
              "      background-color: #E2EBFA;\n",
              "      box-shadow: 0px 1px 2px rgba(60, 64, 67, 0.3), 0px 1px 3px 1px rgba(60, 64, 67, 0.15);\n",
              "      fill: #174EA6;\n",
              "    }\n",
              "\n",
              "    [theme=dark] .colab-df-convert {\n",
              "      background-color: #3B4455;\n",
              "      fill: #D2E3FC;\n",
              "    }\n",
              "\n",
              "    [theme=dark] .colab-df-convert:hover {\n",
              "      background-color: #434B5C;\n",
              "      box-shadow: 0px 1px 3px 1px rgba(0, 0, 0, 0.15);\n",
              "      filter: drop-shadow(0px 1px 2px rgba(0, 0, 0, 0.3));\n",
              "      fill: #FFFFFF;\n",
              "    }\n",
              "  </style>\n",
              "\n",
              "      <script>\n",
              "        const buttonEl =\n",
              "          document.querySelector('#df-5aa9dae4-6566-41cf-99e9-bec00b8a9efa button.colab-df-convert');\n",
              "        buttonEl.style.display =\n",
              "          google.colab.kernel.accessAllowed ? 'block' : 'none';\n",
              "\n",
              "        async function convertToInteractive(key) {\n",
              "          const element = document.querySelector('#df-5aa9dae4-6566-41cf-99e9-bec00b8a9efa');\n",
              "          const dataTable =\n",
              "            await google.colab.kernel.invokeFunction('convertToInteractive',\n",
              "                                                     [key], {});\n",
              "          if (!dataTable) return;\n",
              "\n",
              "          const docLinkHtml = 'Like what you see? Visit the ' +\n",
              "            '<a target=\"_blank\" href=https://colab.research.google.com/notebooks/data_table.ipynb>data table notebook</a>'\n",
              "            + ' to learn more about interactive tables.';\n",
              "          element.innerHTML = '';\n",
              "          dataTable['output_type'] = 'display_data';\n",
              "          await google.colab.output.renderOutput(dataTable, element);\n",
              "          const docLink = document.createElement('div');\n",
              "          docLink.innerHTML = docLinkHtml;\n",
              "          element.appendChild(docLink);\n",
              "        }\n",
              "      </script>\n",
              "    </div>\n",
              "  </div>\n",
              "  "
            ]
          },
          "metadata": {},
          "execution_count": 21
        }
      ]
    },
    {
      "cell_type": "code",
      "source": [
        "test_data = data[~data.index.isin(train_data)]\n",
        "test_data.head()"
      ],
      "metadata": {
        "colab": {
          "base_uri": "https://localhost:8080/",
          "height": 206
        },
        "id": "upgyPnYq9MzW",
        "outputId": "b1393bb7-38d8-43da-9865-d2de4af50a8e"
      },
      "execution_count": null,
      "outputs": [
        {
          "output_type": "execute_result",
          "data": {
            "text/plain": [
              "                                                  texts   labels\n",
              "312   [ai, startups, finally, getting, onboard, ai, ...  driving\n",
              "1233  [completely, agree, looking, ai, cars, easy, t...    legal\n",
              "1489  [trending, legal, strategic, visions, ethics, ...    legal\n",
              "716   [interesting, interview, industry, capture, cs...  driving\n",
              "1102  [article, stanford, launches, ai, audit, chall...    legal"
            ],
            "text/html": [
              "\n",
              "  <div id=\"df-e92fba24-1b66-4869-a45f-6b4af495c773\">\n",
              "    <div class=\"colab-df-container\">\n",
              "      <div>\n",
              "<style scoped>\n",
              "    .dataframe tbody tr th:only-of-type {\n",
              "        vertical-align: middle;\n",
              "    }\n",
              "\n",
              "    .dataframe tbody tr th {\n",
              "        vertical-align: top;\n",
              "    }\n",
              "\n",
              "    .dataframe thead th {\n",
              "        text-align: right;\n",
              "    }\n",
              "</style>\n",
              "<table border=\"1\" class=\"dataframe\">\n",
              "  <thead>\n",
              "    <tr style=\"text-align: right;\">\n",
              "      <th></th>\n",
              "      <th>texts</th>\n",
              "      <th>labels</th>\n",
              "    </tr>\n",
              "  </thead>\n",
              "  <tbody>\n",
              "    <tr>\n",
              "      <th>312</th>\n",
              "      <td>[ai, startups, finally, getting, onboard, ai, ...</td>\n",
              "      <td>driving</td>\n",
              "    </tr>\n",
              "    <tr>\n",
              "      <th>1233</th>\n",
              "      <td>[completely, agree, looking, ai, cars, easy, t...</td>\n",
              "      <td>legal</td>\n",
              "    </tr>\n",
              "    <tr>\n",
              "      <th>1489</th>\n",
              "      <td>[trending, legal, strategic, visions, ethics, ...</td>\n",
              "      <td>legal</td>\n",
              "    </tr>\n",
              "    <tr>\n",
              "      <th>716</th>\n",
              "      <td>[interesting, interview, industry, capture, cs...</td>\n",
              "      <td>driving</td>\n",
              "    </tr>\n",
              "    <tr>\n",
              "      <th>1102</th>\n",
              "      <td>[article, stanford, launches, ai, audit, chall...</td>\n",
              "      <td>legal</td>\n",
              "    </tr>\n",
              "  </tbody>\n",
              "</table>\n",
              "</div>\n",
              "      <button class=\"colab-df-convert\" onclick=\"convertToInteractive('df-e92fba24-1b66-4869-a45f-6b4af495c773')\"\n",
              "              title=\"Convert this dataframe to an interactive table.\"\n",
              "              style=\"display:none;\">\n",
              "        \n",
              "  <svg xmlns=\"http://www.w3.org/2000/svg\" height=\"24px\"viewBox=\"0 0 24 24\"\n",
              "       width=\"24px\">\n",
              "    <path d=\"M0 0h24v24H0V0z\" fill=\"none\"/>\n",
              "    <path d=\"M18.56 5.44l.94 2.06.94-2.06 2.06-.94-2.06-.94-.94-2.06-.94 2.06-2.06.94zm-11 1L8.5 8.5l.94-2.06 2.06-.94-2.06-.94L8.5 2.5l-.94 2.06-2.06.94zm10 10l.94 2.06.94-2.06 2.06-.94-2.06-.94-.94-2.06-.94 2.06-2.06.94z\"/><path d=\"M17.41 7.96l-1.37-1.37c-.4-.4-.92-.59-1.43-.59-.52 0-1.04.2-1.43.59L10.3 9.45l-7.72 7.72c-.78.78-.78 2.05 0 2.83L4 21.41c.39.39.9.59 1.41.59.51 0 1.02-.2 1.41-.59l7.78-7.78 2.81-2.81c.8-.78.8-2.07 0-2.86zM5.41 20L4 18.59l7.72-7.72 1.47 1.35L5.41 20z\"/>\n",
              "  </svg>\n",
              "      </button>\n",
              "      \n",
              "  <style>\n",
              "    .colab-df-container {\n",
              "      display:flex;\n",
              "      flex-wrap:wrap;\n",
              "      gap: 12px;\n",
              "    }\n",
              "\n",
              "    .colab-df-convert {\n",
              "      background-color: #E8F0FE;\n",
              "      border: none;\n",
              "      border-radius: 50%;\n",
              "      cursor: pointer;\n",
              "      display: none;\n",
              "      fill: #1967D2;\n",
              "      height: 32px;\n",
              "      padding: 0 0 0 0;\n",
              "      width: 32px;\n",
              "    }\n",
              "\n",
              "    .colab-df-convert:hover {\n",
              "      background-color: #E2EBFA;\n",
              "      box-shadow: 0px 1px 2px rgba(60, 64, 67, 0.3), 0px 1px 3px 1px rgba(60, 64, 67, 0.15);\n",
              "      fill: #174EA6;\n",
              "    }\n",
              "\n",
              "    [theme=dark] .colab-df-convert {\n",
              "      background-color: #3B4455;\n",
              "      fill: #D2E3FC;\n",
              "    }\n",
              "\n",
              "    [theme=dark] .colab-df-convert:hover {\n",
              "      background-color: #434B5C;\n",
              "      box-shadow: 0px 1px 3px 1px rgba(0, 0, 0, 0.15);\n",
              "      filter: drop-shadow(0px 1px 2px rgba(0, 0, 0, 0.3));\n",
              "      fill: #FFFFFF;\n",
              "    }\n",
              "  </style>\n",
              "\n",
              "      <script>\n",
              "        const buttonEl =\n",
              "          document.querySelector('#df-e92fba24-1b66-4869-a45f-6b4af495c773 button.colab-df-convert');\n",
              "        buttonEl.style.display =\n",
              "          google.colab.kernel.accessAllowed ? 'block' : 'none';\n",
              "\n",
              "        async function convertToInteractive(key) {\n",
              "          const element = document.querySelector('#df-e92fba24-1b66-4869-a45f-6b4af495c773');\n",
              "          const dataTable =\n",
              "            await google.colab.kernel.invokeFunction('convertToInteractive',\n",
              "                                                     [key], {});\n",
              "          if (!dataTable) return;\n",
              "\n",
              "          const docLinkHtml = 'Like what you see? Visit the ' +\n",
              "            '<a target=\"_blank\" href=https://colab.research.google.com/notebooks/data_table.ipynb>data table notebook</a>'\n",
              "            + ' to learn more about interactive tables.';\n",
              "          element.innerHTML = '';\n",
              "          dataTable['output_type'] = 'display_data';\n",
              "          await google.colab.output.renderOutput(dataTable, element);\n",
              "          const docLink = document.createElement('div');\n",
              "          docLink.innerHTML = docLinkHtml;\n",
              "          element.appendChild(docLink);\n",
              "        }\n",
              "      </script>\n",
              "    </div>\n",
              "  </div>\n",
              "  "
            ]
          },
          "metadata": {},
          "execution_count": 22
        }
      ]
    },
    {
      "cell_type": "code",
      "source": [
        "## 对数据集的标签数据进行编码\n",
        "train_y = train_data.labels\n",
        "test_y = test_data.labels\n",
        "le = LabelEncoder()\n",
        "train_y = le.fit_transform(train_y).reshape(-1,1)\n",
        "test_y = le.transform(test_y).reshape(-1,1)\n",
        "\n",
        "## 对数据集的标签数据进行one-hot编码\n",
        "ohe = OneHotEncoder()\n",
        "train_y = ohe.fit_transform(train_y).toarray()\n",
        "test_y = ohe.transform(test_y).toarray()"
      ],
      "metadata": {
        "id": "AwAKnBHt9kld"
      },
      "execution_count": null,
      "outputs": []
    },
    {
      "cell_type": "code",
      "source": [
        "## 使用Tokenizer对词组进行编码\n",
        "## 当我们创建了一个Tokenizer对象后，使用该对象的fit_on_texts()函数，以空格去识别每个词,\n",
        "## 可以将输入的文本中的每个词编号，编号是根据词频的，词频越大，编号越小。\n",
        "max_words = 5000\n",
        "max_len = 60\n",
        "tok = Tokenizer(num_words=max_words)  ## 使用的最大词语数为5000\n",
        "tok.fit_on_texts(train_data.texts)\n",
        "\n",
        "## 使用word_index属性可以看到每次词对应的编码\n",
        "## 使用word_counts属性可以看到每个词对应的频数\n",
        "for ii,iterm in enumerate(tok.word_index.items()):\n",
        "    if ii < 10:\n",
        "        print(iterm)\n",
        "    else:\n",
        "        break\n",
        "print(\"===================\")\n",
        "for ii,iterm in enumerate(tok.word_counts.items()):\n",
        "    if ii < 10:\n",
        "        print(iterm)\n",
        "    else:\n",
        "        break"
      ],
      "metadata": {
        "colab": {
          "base_uri": "https://localhost:8080/"
        },
        "id": "SCRwLgQH5EjR",
        "outputId": "4208615c-15e9-458d-b3bd-d704380ebfd3"
      },
      "execution_count": null,
      "outputs": [
        {
          "output_type": "stream",
          "name": "stdout",
          "text": [
            "('ai', 1)\n",
            "('ethics', 2)\n",
            "('legal', 3)\n",
            "('driving', 4)\n",
            "('self', 5)\n",
            "('cars', 6)\n",
            "('including', 7)\n",
            "('autonomous', 8)\n",
            "('ethical', 9)\n",
            "('aiethics', 10)\n",
            "===================\n",
            "('legal', 1057)\n",
            "('personhood', 81)\n",
            "('ai', 4370)\n",
            "('taking', 31)\n",
            "('sneaky', 28)\n",
            "('path', 33)\n",
            "('makes', 31)\n",
            "('law', 245)\n",
            "('ethics', 1777)\n",
            "('nervous', 24)\n"
          ]
        }
      ]
    },
    {
      "cell_type": "code",
      "source": [
        "from keras.utils import pad_sequences\n",
        "## 对每个词编码之后，每句新闻中的每个词就可以用对应的编码表示，即每条新闻可以转变成一个向量了：\n",
        "train_seq = tok.texts_to_sequences(train_data.texts)\n",
        "test_seq = tok.texts_to_sequences(test_data.texts)\n",
        "## 将每个序列调整为相同的长度\n",
        "train_seq_mat = pad_sequences(train_seq,maxlen=max_len)\n",
        "test_seq_mat = pad_sequences(test_seq,maxlen=max_len)\n",
        "\n",
        "print(train_seq_mat.shape)\n",
        "print(test_seq_mat.shape)"
      ],
      "metadata": {
        "colab": {
          "base_uri": "https://localhost:8080/"
        },
        "id": "8jAQU0ANz4Ti",
        "outputId": "febd8c3a-79b6-4b07-9873-4f2641724656"
      },
      "execution_count": null,
      "outputs": [
        {
          "output_type": "stream",
          "name": "stdout",
          "text": [
            "(1197, 60)\n",
            "(1496, 60)\n"
          ]
        }
      ]
    },
    {
      "cell_type": "code",
      "source": [
        "## 定义LSTM模型\n",
        "inputs = Input(name='inputs',shape=[max_len])\n",
        "## Embedding(词汇表大小,batch大小,每个新闻的词长)\n",
        "layer = Embedding(max_words+1,128,input_length=max_len)(inputs)\n",
        "layer = LSTM(128)(layer)\n",
        "layer = Dense(128,activation=\"relu\",name=\"FC1\")(layer)\n",
        "layer = Dropout(0.5)(layer)\n",
        "layer = Dense(2,activation=\"softmax\",name=\"FC2\")(layer)\n",
        "model = Model(inputs=inputs,outputs=layer)\n",
        "model.summary()\n",
        "model.compile(loss=\"categorical_crossentropy\",optimizer=RMSprop(),metrics=[\"accuracy\"])"
      ],
      "metadata": {
        "colab": {
          "base_uri": "https://localhost:8080/"
        },
        "id": "XeGe__-c-tLm",
        "outputId": "6bb73bd7-6f55-4706-c953-5a7dce3919b3"
      },
      "execution_count": null,
      "outputs": [
        {
          "output_type": "stream",
          "name": "stdout",
          "text": [
            "Model: \"model_1\"\n",
            "_________________________________________________________________\n",
            " Layer (type)                Output Shape              Param #   \n",
            "=================================================================\n",
            " inputs (InputLayer)         [(None, 60)]              0         \n",
            "                                                                 \n",
            " embedding_1 (Embedding)     (None, 60, 128)           640128    \n",
            "                                                                 \n",
            " lstm_1 (LSTM)               (None, 128)               131584    \n",
            "                                                                 \n",
            " FC1 (Dense)                 (None, 128)               16512     \n",
            "                                                                 \n",
            " dropout_1 (Dropout)         (None, 128)               0         \n",
            "                                                                 \n",
            " FC2 (Dense)                 (None, 2)                 258       \n",
            "                                                                 \n",
            "=================================================================\n",
            "Total params: 788,482\n",
            "Trainable params: 788,482\n",
            "Non-trainable params: 0\n",
            "_________________________________________________________________\n"
          ]
        }
      ]
    },
    {
      "cell_type": "code",
      "source": [
        "## 模型训练\n",
        "model_fit = model.fit(train_seq_mat,train_y,batch_size=32,epochs=10,\n",
        "                      validation_data=(test_seq_mat,test_y),\n",
        "                      callbacks=[EarlyStopping(monitor='val_loss',min_delta=0.0001)] ## 当val-loss不再提升时停止训练\n",
        "                     )"
      ],
      "metadata": {
        "colab": {
          "base_uri": "https://localhost:8080/"
        },
        "id": "voj1-wIX-3U1",
        "outputId": "b03f8cfe-3ba6-4932-e533-991e99565ea5"
      },
      "execution_count": null,
      "outputs": [
        {
          "output_type": "stream",
          "name": "stdout",
          "text": [
            "Epoch 1/10\n",
            "38/38 [==============================] - 1s 14ms/step - loss: 0.0835 - accuracy: 0.9515 - val_loss: 0.0956 - val_accuracy: 0.9512\n",
            "Epoch 2/10\n",
            "38/38 [==============================] - 1s 13ms/step - loss: 0.0834 - accuracy: 0.9490 - val_loss: 0.2207 - val_accuracy: 0.9492\n"
          ]
        }
      ]
    },
    {
      "cell_type": "code",
      "source": [
        "s1 = 'Self driving car is a disaster to society! Ai Ethics should be considered while developing ai prodocts!'\n",
        "s2 = 'The legistration problem for ai needs more discussion'\n",
        "s3 = 'who should be responsibel for ai ethics? if a car crashed on someone with auto driving, who should be responsibel from the perspective of laws?'\n",
        "\n",
        "s1_words = s1.split(' ')\n",
        "s2_words = s1.split(' ')\n",
        "s3_words = s1.split(' ')\n",
        "val_text = [s1_words, s2_words, s3_words]\n",
        "val_labels = ['driving', 'legal', 'legal']\n",
        "\n",
        "val_data = pd.DataFrame({'texts':val_text, 'labels':val_labels})\n",
        "val_data.head()"
      ],
      "metadata": {
        "colab": {
          "base_uri": "https://localhost:8080/",
          "height": 143
        },
        "id": "vOaC-bb0AvdB",
        "outputId": "e2673b27-de4f-4c6e-f227-23fad6cbaffb"
      },
      "execution_count": null,
      "outputs": [
        {
          "output_type": "execute_result",
          "data": {
            "text/plain": [
              "                                               texts   labels\n",
              "0  [Self, driving, car, is, a, disaster, to, soci...  driving\n",
              "1  [Self, driving, car, is, a, disaster, to, soci...    legal\n",
              "2  [Self, driving, car, is, a, disaster, to, soci...    legal"
            ],
            "text/html": [
              "\n",
              "  <div id=\"df-75a7a2e3-9c03-46fa-ac2f-38c2df19c818\">\n",
              "    <div class=\"colab-df-container\">\n",
              "      <div>\n",
              "<style scoped>\n",
              "    .dataframe tbody tr th:only-of-type {\n",
              "        vertical-align: middle;\n",
              "    }\n",
              "\n",
              "    .dataframe tbody tr th {\n",
              "        vertical-align: top;\n",
              "    }\n",
              "\n",
              "    .dataframe thead th {\n",
              "        text-align: right;\n",
              "    }\n",
              "</style>\n",
              "<table border=\"1\" class=\"dataframe\">\n",
              "  <thead>\n",
              "    <tr style=\"text-align: right;\">\n",
              "      <th></th>\n",
              "      <th>texts</th>\n",
              "      <th>labels</th>\n",
              "    </tr>\n",
              "  </thead>\n",
              "  <tbody>\n",
              "    <tr>\n",
              "      <th>0</th>\n",
              "      <td>[Self, driving, car, is, a, disaster, to, soci...</td>\n",
              "      <td>driving</td>\n",
              "    </tr>\n",
              "    <tr>\n",
              "      <th>1</th>\n",
              "      <td>[Self, driving, car, is, a, disaster, to, soci...</td>\n",
              "      <td>legal</td>\n",
              "    </tr>\n",
              "    <tr>\n",
              "      <th>2</th>\n",
              "      <td>[Self, driving, car, is, a, disaster, to, soci...</td>\n",
              "      <td>legal</td>\n",
              "    </tr>\n",
              "  </tbody>\n",
              "</table>\n",
              "</div>\n",
              "      <button class=\"colab-df-convert\" onclick=\"convertToInteractive('df-75a7a2e3-9c03-46fa-ac2f-38c2df19c818')\"\n",
              "              title=\"Convert this dataframe to an interactive table.\"\n",
              "              style=\"display:none;\">\n",
              "        \n",
              "  <svg xmlns=\"http://www.w3.org/2000/svg\" height=\"24px\"viewBox=\"0 0 24 24\"\n",
              "       width=\"24px\">\n",
              "    <path d=\"M0 0h24v24H0V0z\" fill=\"none\"/>\n",
              "    <path d=\"M18.56 5.44l.94 2.06.94-2.06 2.06-.94-2.06-.94-.94-2.06-.94 2.06-2.06.94zm-11 1L8.5 8.5l.94-2.06 2.06-.94-2.06-.94L8.5 2.5l-.94 2.06-2.06.94zm10 10l.94 2.06.94-2.06 2.06-.94-2.06-.94-.94-2.06-.94 2.06-2.06.94z\"/><path d=\"M17.41 7.96l-1.37-1.37c-.4-.4-.92-.59-1.43-.59-.52 0-1.04.2-1.43.59L10.3 9.45l-7.72 7.72c-.78.78-.78 2.05 0 2.83L4 21.41c.39.39.9.59 1.41.59.51 0 1.02-.2 1.41-.59l7.78-7.78 2.81-2.81c.8-.78.8-2.07 0-2.86zM5.41 20L4 18.59l7.72-7.72 1.47 1.35L5.41 20z\"/>\n",
              "  </svg>\n",
              "      </button>\n",
              "      \n",
              "  <style>\n",
              "    .colab-df-container {\n",
              "      display:flex;\n",
              "      flex-wrap:wrap;\n",
              "      gap: 12px;\n",
              "    }\n",
              "\n",
              "    .colab-df-convert {\n",
              "      background-color: #E8F0FE;\n",
              "      border: none;\n",
              "      border-radius: 50%;\n",
              "      cursor: pointer;\n",
              "      display: none;\n",
              "      fill: #1967D2;\n",
              "      height: 32px;\n",
              "      padding: 0 0 0 0;\n",
              "      width: 32px;\n",
              "    }\n",
              "\n",
              "    .colab-df-convert:hover {\n",
              "      background-color: #E2EBFA;\n",
              "      box-shadow: 0px 1px 2px rgba(60, 64, 67, 0.3), 0px 1px 3px 1px rgba(60, 64, 67, 0.15);\n",
              "      fill: #174EA6;\n",
              "    }\n",
              "\n",
              "    [theme=dark] .colab-df-convert {\n",
              "      background-color: #3B4455;\n",
              "      fill: #D2E3FC;\n",
              "    }\n",
              "\n",
              "    [theme=dark] .colab-df-convert:hover {\n",
              "      background-color: #434B5C;\n",
              "      box-shadow: 0px 1px 3px 1px rgba(0, 0, 0, 0.15);\n",
              "      filter: drop-shadow(0px 1px 2px rgba(0, 0, 0, 0.3));\n",
              "      fill: #FFFFFF;\n",
              "    }\n",
              "  </style>\n",
              "\n",
              "      <script>\n",
              "        const buttonEl =\n",
              "          document.querySelector('#df-75a7a2e3-9c03-46fa-ac2f-38c2df19c818 button.colab-df-convert');\n",
              "        buttonEl.style.display =\n",
              "          google.colab.kernel.accessAllowed ? 'block' : 'none';\n",
              "\n",
              "        async function convertToInteractive(key) {\n",
              "          const element = document.querySelector('#df-75a7a2e3-9c03-46fa-ac2f-38c2df19c818');\n",
              "          const dataTable =\n",
              "            await google.colab.kernel.invokeFunction('convertToInteractive',\n",
              "                                                     [key], {});\n",
              "          if (!dataTable) return;\n",
              "\n",
              "          const docLinkHtml = 'Like what you see? Visit the ' +\n",
              "            '<a target=\"_blank\" href=https://colab.research.google.com/notebooks/data_table.ipynb>data table notebook</a>'\n",
              "            + ' to learn more about interactive tables.';\n",
              "          element.innerHTML = '';\n",
              "          dataTable['output_type'] = 'display_data';\n",
              "          await google.colab.output.renderOutput(dataTable, element);\n",
              "          const docLink = document.createElement('div');\n",
              "          docLink.innerHTML = docLinkHtml;\n",
              "          element.appendChild(docLink);\n",
              "        }\n",
              "      </script>\n",
              "    </div>\n",
              "  </div>\n",
              "  "
            ]
          },
          "metadata": {},
          "execution_count": 45
        }
      ]
    },
    {
      "cell_type": "code",
      "source": [
        "## 对数据集的标签数据进行编码\n",
        "val_y = val_data.labels\n",
        "le = LabelEncoder()\n",
        "val_y = le.fit_transform(val_y).reshape(-1,1)\n",
        "\n",
        "## 对数据集的标签数据进行one-hot编码\n",
        "ohe = OneHotEncoder()\n",
        "val_y = ohe.fit_transform(val_y).toarray()"
      ],
      "metadata": {
        "id": "rezsRQe7BmBV"
      },
      "execution_count": null,
      "outputs": []
    },
    {
      "cell_type": "code",
      "source": [
        "## 对每个词编码之后，每句新闻中的每个词就可以用对应的编码表示，即每条新闻可以转变成一个向量了：\n",
        "val_seq = tok.texts_to_sequences(val_data.texts)\n",
        "## 将每个序列调整为相同的长度\n",
        "val_seq_mat = pad_sequences(val_seq,maxlen=max_len)\n",
        "\n",
        "print(val_seq_mat.shape)"
      ],
      "metadata": {
        "colab": {
          "base_uri": "https://localhost:8080/"
        },
        "id": "hU40fPOjB191",
        "outputId": "35098a94-8611-4a40-d579-2cc465707afa"
      },
      "execution_count": null,
      "outputs": [
        {
          "output_type": "stream",
          "name": "stdout",
          "text": [
            "(3, 60)\n"
          ]
        }
      ]
    },
    {
      "cell_type": "code",
      "source": [
        "## 对测试集进行预测\n",
        "\n",
        "val_pre = model.predict(val_seq_mat)\n",
        "\n",
        "## 评价预测效果，计算混淆矩阵\n",
        "confm = metrics.confusion_matrix(np.argmax(val_pre,axis=1),np.argmax(val_y,axis=1))\n",
        "## 混淆矩阵可视化\n",
        "Labname = [\"driving\",\"legal\"]\n",
        "plt.figure(figsize=(4,4))\n",
        "sns.heatmap(confm.T, square=True, annot=True,\n",
        "            fmt='d', cbar=False,linewidths=.8,\n",
        "            cmap=\"YlGnBu\")\n",
        "plt.xlabel('True label',size = 14)\n",
        "plt.ylabel('Predicted label',size = 14)\n",
        "plt.xticks(np.arange(2)+0.5,Labname,size = 12)\n",
        "plt.yticks(np.arange(2)+0.3,Labname,size = 12)\n",
        "plt.show()\n",
        "\n",
        "\n",
        "print(metrics.classification_report(np.argmax(val_pre,axis=1),np.argmax(val_y,axis=1)))"
      ],
      "metadata": {
        "colab": {
          "base_uri": "https://localhost:8080/",
          "height": 583
        },
        "id": "0emso3sL_dmf",
        "outputId": "bc826f36-38ef-4d29-fcb7-56a753717dac"
      },
      "execution_count": null,
      "outputs": [
        {
          "output_type": "stream",
          "name": "stdout",
          "text": [
            "1/1 [==============================] - 0s 18ms/step\n"
          ]
        },
        {
          "output_type": "display_data",
          "data": {
            "text/plain": [
              "<Figure size 288x288 with 1 Axes>"
            ],
            "image/png": "[encoded data removed]"
          },
          "metadata": {
            "image/png": {
              "width": 268,
              "height": 268
            },
            "needs_background": "light"
          }
        },
        {
          "output_type": "stream",
          "name": "stdout",
          "text": [
            "              precision    recall  f1-score   support\n",
            "\n",
            "           0       1.00      0.33      0.50         3\n",
            "           1       0.00      0.00      0.00         0\n",
            "\n",
            "    accuracy                           0.33         3\n",
            "   macro avg       0.50      0.17      0.25         3\n",
            "weighted avg       1.00      0.33      0.50         3\n",
            "\n"
          ]
        },
        {
          "output_type": "stream",
          "name": "stderr",
          "text": [
            "/usr/local/lib/python3.8/dist-packages/sklearn/metrics/_classification.py:1318: UndefinedMetricWarning: Recall and F-score are ill-defined and being set to 0.0 in labels with no true samples. Use `zero_division` parameter to control this behavior.\n",
            "  _warn_prf(average, modifier, msg_start, len(result))\n",
            "/usr/local/lib/python3.8/dist-packages/sklearn/metrics/_classification.py:1318: UndefinedMetricWarning: Recall and F-score are ill-defined and being set to 0.0 in labels with no true samples. Use `zero_division` parameter to control this behavior.\n",
            "  _warn_prf(average, modifier, msg_start, len(result))\n",
            "/usr/local/lib/python3.8/dist-packages/sklearn/metrics/_classification.py:1318: UndefinedMetricWarning: Recall and F-score are ill-defined and being set to 0.0 in labels with no true samples. Use `zero_division` parameter to control this behavior.\n",
            "  _warn_prf(average, modifier, msg_start, len(result))\n"
          ]
        }
      ]
    },
    {
      "cell_type": "markdown",
      "source": [
        "# DEMO used for THUCNews"
      ],
      "metadata": {
        "id": "DEWdho78_VVF"
      }
    },
    {
      "cell_type": "code",
      "source": [
        "## 查看训练集都有哪些标签\n",
        "plt.figure()\n",
        "sns.countplot(train_data.labels)\n",
        "plt.xlabel('Label',size = 10)\n",
        "plt.xticks(size = 10)\n",
        "plt.show()"
      ],
      "metadata": {
        "colab": {
          "base_uri": "https://localhost:8080/",
          "height": 333
        },
        "id": "zwhN2p4RCyEh",
        "outputId": "5df09d63-4076-4331-df44-9a99dd106e7d"
      },
      "execution_count": null,
      "outputs": [
        {
          "output_type": "stream",
          "name": "stderr",
          "text": [
            "/usr/local/lib/python3.8/dist-packages/seaborn/_decorators.py:36: FutureWarning: Pass the following variable as a keyword arg: x. From version 0.12, the only valid positional argument will be `data`, and passing other arguments without an explicit keyword will result in an error or misinterpretation.\n",
            "  warnings.warn(\n"
          ]
        },
        {
          "output_type": "display_data",
          "data": {
            "text/plain": [
              "<Figure size 432x288 with 1 Axes>"
            ],
            "image/png": "[encoded data removed]"
          },
          "metadata": {
            "image/png": {
              "width": 388,
              "height": 261
            },
            "needs_background": "light"
          }
        }
      ]
    },
    {
      "cell_type": "code",
      "source": [
        "print(train_df.cutwordnum.describe())\n",
        "plt.figure()\n",
        "plt.hist(train_df.cutwordnum,bins=100)\n",
        "plt.xlabel(\"词组长度\",size = 12)\n",
        "plt.ylabel(\"频数\",size = 12)\n",
        "plt.title(\"训练数据集\")\n",
        "plt.show()"
      ],
      "metadata": {
        "colab": {
          "base_uri": "https://localhost:8080/",
          "height": 1000
        },
        "id": "N3eqokKzDJkO",
        "outputId": "cee12e98-27cc-4e42-f050-8d791c4e3c23"
      },
      "execution_count": null,
      "outputs": [
        {
          "output_type": "stream",
          "name": "stdout",
          "text": [
            "count    50000.000000\n",
            "mean       300.462240\n",
            "std        304.555855\n",
            "min          4.000000\n",
            "25%        115.000000\n",
            "50%        226.000000\n",
            "75%        382.000000\n",
            "max       9083.000000\n",
            "Name: cutwordnum, dtype: float64\n"
          ]
        },
        {
          "output_type": "stream",
          "name": "stderr",
          "text": [
            "/usr/local/lib/python3.8/dist-packages/matplotlib/backends/backend_agg.py:214: RuntimeWarning: Glyph 35757 missing from current font.\n",
            "  font.set_text(s, 0.0, flags=flags)\n",
            "/usr/local/lib/python3.8/dist-packages/matplotlib/backends/backend_agg.py:214: RuntimeWarning: Glyph 32451 missing from current font.\n",
            "  font.set_text(s, 0.0, flags=flags)\n",
            "/usr/local/lib/python3.8/dist-packages/matplotlib/backends/backend_agg.py:214: RuntimeWarning: Glyph 25968 missing from current font.\n",
            "  font.set_text(s, 0.0, flags=flags)\n",
            "/usr/local/lib/python3.8/dist-packages/matplotlib/backends/backend_agg.py:214: RuntimeWarning: Glyph 25454 missing from current font.\n",
            "  font.set_text(s, 0.0, flags=flags)\n",
            "/usr/local/lib/python3.8/dist-packages/matplotlib/backends/backend_agg.py:214: RuntimeWarning: Glyph 38598 missing from current font.\n",
            "  font.set_text(s, 0.0, flags=flags)\n",
            "/usr/local/lib/python3.8/dist-packages/matplotlib/backends/backend_agg.py:214: RuntimeWarning: Glyph 35789 missing from current font.\n",
            "  font.set_text(s, 0.0, flags=flags)\n",
            "/usr/local/lib/python3.8/dist-packages/matplotlib/backends/backend_agg.py:214: RuntimeWarning: Glyph 32452 missing from current font.\n",
            "  font.set_text(s, 0.0, flags=flags)\n",
            "/usr/local/lib/python3.8/dist-packages/matplotlib/backends/backend_agg.py:214: RuntimeWarning: Glyph 38271 missing from current font.\n",
            "  font.set_text(s, 0.0, flags=flags)\n",
            "/usr/local/lib/python3.8/dist-packages/matplotlib/backends/backend_agg.py:214: RuntimeWarning: Glyph 24230 missing from current font.\n",
            "  font.set_text(s, 0.0, flags=flags)\n",
            "/usr/local/lib/python3.8/dist-packages/matplotlib/backends/backend_agg.py:214: RuntimeWarning: Glyph 39057 missing from current font.\n",
            "  font.set_text(s, 0.0, flags=flags)\n",
            "/usr/local/lib/python3.8/dist-packages/matplotlib/backends/backend_agg.py:183: RuntimeWarning: Glyph 35789 missing from current font.\n",
            "  font.set_text(s, 0, flags=flags)\n",
            "/usr/local/lib/python3.8/dist-packages/matplotlib/backends/backend_agg.py:183: RuntimeWarning: Glyph 32452 missing from current font.\n",
            "  font.set_text(s, 0, flags=flags)\n",
            "/usr/local/lib/python3.8/dist-packages/matplotlib/backends/backend_agg.py:183: RuntimeWarning: Glyph 38271 missing from current font.\n",
            "  font.set_text(s, 0, flags=flags)\n",
            "/usr/local/lib/python3.8/dist-packages/matplotlib/backends/backend_agg.py:183: RuntimeWarning: Glyph 24230 missing from current font.\n",
            "  font.set_text(s, 0, flags=flags)\n",
            "/usr/local/lib/python3.8/dist-packages/matplotlib/backends/backend_agg.py:183: RuntimeWarning: Glyph 39057 missing from current font.\n",
            "  font.set_text(s, 0, flags=flags)\n",
            "/usr/local/lib/python3.8/dist-packages/matplotlib/backends/backend_agg.py:183: RuntimeWarning: Glyph 25968 missing from current font.\n",
            "  font.set_text(s, 0, flags=flags)\n",
            "/usr/local/lib/python3.8/dist-packages/matplotlib/backends/backend_agg.py:183: RuntimeWarning: Glyph 35757 missing from current font.\n",
            "  font.set_text(s, 0, flags=flags)\n",
            "/usr/local/lib/python3.8/dist-packages/matplotlib/backends/backend_agg.py:183: RuntimeWarning: Glyph 32451 missing from current font.\n",
            "  font.set_text(s, 0, flags=flags)\n",
            "/usr/local/lib/python3.8/dist-packages/matplotlib/backends/backend_agg.py:183: RuntimeWarning: Glyph 25454 missing from current font.\n",
            "  font.set_text(s, 0, flags=flags)\n",
            "/usr/local/lib/python3.8/dist-packages/matplotlib/backends/backend_agg.py:183: RuntimeWarning: Glyph 38598 missing from current font.\n",
            "  font.set_text(s, 0, flags=flags)\n"
          ]
        },
        {
          "output_type": "display_data",
          "data": {
            "text/plain": [
              "<Figure size 432x288 with 1 Axes>"
            ],
            "image/png": "[encoded data removed]"
          },
          "metadata": {
            "image/png": {
              "width": 404,
              "height": 279
            },
            "needs_background": "light"
          }
        }
      ]
    },
    {
      "cell_type": "code",
      "source": [
        "## 对数据集的标签数据进行编码\n",
        "train_y = train_df.label\n",
        "val_y = val_df.label\n",
        "test_y = test_df.label\n",
        "le = LabelEncoder()\n",
        "train_y = le.fit_transform(train_y).reshape(-1,1)\n",
        "val_y = le.transform(val_y).reshape(-1,1)\n",
        "test_y = le.transform(test_y).reshape(-1,1)\n",
        "\n",
        "## 对数据集的标签数据进行one-hot编码\n",
        "ohe = OneHotEncoder()\n",
        "train_y = ohe.fit_transform(train_y).toarray()\n",
        "val_y = ohe.transform(val_y).toarray()\n",
        "test_y = ohe.transform(test_y).toarray()"
      ],
      "metadata": {
        "id": "g_btIj9OD3fg"
      },
      "execution_count": null,
      "outputs": []
    },
    {
      "cell_type": "code",
      "source": [
        "## 使用Tokenizer对词组进行编码\n",
        "## 当我们创建了一个Tokenizer对象后，使用该对象的fit_on_texts()函数，以空格去识别每个词,\n",
        "## 可以将输入的文本中的每个词编号，编号是根据词频的，词频越大，编号越小。\n",
        "max_words = 5000\n",
        "max_len = 600\n",
        "tok = Tokenizer(num_words=max_words)  ## 使用的最大词语数为5000\n",
        "tok.fit_on_texts(train_df.cutword)\n",
        "\n",
        "## 使用word_index属性可以看到每次词对应的编码\n",
        "## 使用word_counts属性可以看到每个词对应的频数\n",
        "for ii,iterm in enumerate(tok.word_index.items()):\n",
        "    if ii < 10:\n",
        "        print(iterm)\n",
        "    else:\n",
        "        break\n",
        "print(\"===================\")\n",
        "for ii,iterm in enumerate(tok.word_counts.items()):\n",
        "    if ii < 10:\n",
        "        print(iterm)\n",
        "    else:\n",
        "        break"
      ],
      "metadata": {
        "colab": {
          "base_uri": "https://localhost:8080/"
        },
        "id": "Sh2PKtjND8HY",
        "outputId": "ec717668-1209-4a9d-88f6-0bfe933904d4"
      },
      "execution_count": null,
      "outputs": [
        {
          "output_type": "stream",
          "name": "stdout",
          "text": [
            "('我们', 1)\n",
            "('一个', 2)\n",
            "('中国', 3)\n",
            "('可以', 4)\n",
            "('基金', 5)\n",
            "('没有', 6)\n",
            "('自己', 7)\n",
            "('他们', 8)\n",
            "('市场', 9)\n",
            "('这个', 10)\n",
            "===================\n",
            "('马晓旭', 2)\n",
            "('意外', 1641)\n",
            "('受伤', 1948)\n",
            "('国奥', 148)\n",
            "('警惕', 385)\n",
            "('无奈', 1161)\n",
            "('大雨', 77)\n",
            "('格外', 529)\n",
            "('青睐', 1092)\n",
            "('殷家', 1)\n"
          ]
        }
      ]
    },
    {
      "cell_type": "code",
      "source": [
        "## 对每个词编码之后，每句新闻中的每个词就可以用对应的编码表示，即每条新闻可以转变成一个向量了：\n",
        "train_seq = tok.texts_to_sequences(train_df.cutword)\n",
        "val_seq = tok.texts_to_sequences(val_df.cutword)\n",
        "test_seq = tok.texts_to_sequences(test_df.cutword)\n",
        "## 将每个序列调整为相同的长度\n",
        "train_seq_mat = pad_sequences(train_seq,maxlen=max_len)\n",
        "val_seq_mat = pad_sequences(val_seq,maxlen=max_len)\n",
        "test_seq_mat = pad_sequences(test_seq,maxlen=max_len)\n",
        "\n",
        "print(train_seq_mat.shape)\n",
        "print(val_seq_mat.shape)\n",
        "print(test_seq_mat.shape)"
      ],
      "metadata": {
        "colab": {
          "base_uri": "https://localhost:8080/"
        },
        "id": "81dTvgYpEPkh",
        "outputId": "3c8db106-1e0d-4d73-af1e-d27da67eeaa9"
      },
      "execution_count": null,
      "outputs": [
        {
          "output_type": "stream",
          "name": "stdout",
          "text": [
            "(50000, 600)\n",
            "(5000, 600)\n",
            "(10000, 600)\n"
          ]
        }
      ]
    },
    {
      "cell_type": "code",
      "source": [
        "from keras.utils import pad_sequences"
      ],
      "metadata": {
        "id": "2e5A0IUAE4-V"
      },
      "execution_count": null,
      "outputs": []
    },
    {
      "cell_type": "code",
      "source": [
        "## 定义LSTM模型\n",
        "inputs = Input(name='inputs',shape=[max_len])\n",
        "## Embedding(词汇表大小,batch大小,每个新闻的词长)\n",
        "layer = Embedding(max_words+1,128,input_length=max_len)(inputs)\n",
        "layer = LSTM(128)(layer)\n",
        "layer = Dense(128,activation=\"relu\",name=\"FC1\")(layer)\n",
        "layer = Dropout(0.5)(layer)\n",
        "layer = Dense(10,activation=\"softmax\",name=\"FC2\")(layer)\n",
        "model = Model(inputs=inputs,outputs=layer)\n",
        "model.summary()\n",
        "model.compile(loss=\"categorical_crossentropy\",optimizer=RMSprop(),metrics=[\"accuracy\"])"
      ],
      "metadata": {
        "colab": {
          "base_uri": "https://localhost:8080/"
        },
        "id": "DwJlqwLuFF-t",
        "outputId": "80cd1818-da97-4692-afdc-e6cb68af1c0a"
      },
      "execution_count": null,
      "outputs": [
        {
          "output_type": "stream",
          "name": "stdout",
          "text": [
            "Model: \"model\"\n",
            "_________________________________________________________________\n",
            " Layer (type)                Output Shape              Param #   \n",
            "=================================================================\n",
            " inputs (InputLayer)         [(None, 600)]             0         \n",
            "                                                                 \n",
            " embedding (Embedding)       (None, 600, 128)          640128    \n",
            "                                                                 \n",
            " lstm (LSTM)                 (None, 128)               131584    \n",
            "                                                                 \n",
            " FC1 (Dense)                 (None, 128)               16512     \n",
            "                                                                 \n",
            " dropout (Dropout)           (None, 128)               0         \n",
            "                                                                 \n",
            " FC2 (Dense)                 (None, 10)                1290      \n",
            "                                                                 \n",
            "=================================================================\n",
            "Total params: 789,514\n",
            "Trainable params: 789,514\n",
            "Non-trainable params: 0\n",
            "_________________________________________________________________\n"
          ]
        }
      ]
    },
    {
      "cell_type": "code",
      "source": [
        "## 模型训练\n",
        "model_fit = model.fit(train_seq_mat,train_y,batch_size=128,epochs=10,\n",
        "                      validation_data=(val_seq_mat,val_y),\n",
        "                      callbacks=[EarlyStopping(monitor='val_loss',min_delta=0.0001)] ## 当val-loss不再提升时停止训练\n",
        "                     )"
      ],
      "metadata": {
        "colab": {
          "base_uri": "https://localhost:8080/"
        },
        "id": "-sVc20v3FLDs",
        "outputId": "4418dd15-ca5b-4d5e-dbef-68b25e48412a"
      },
      "execution_count": null,
      "outputs": [
        {
          "output_type": "stream",
          "name": "stdout",
          "text": [
            "Epoch 1/10\n",
            "391/391 [==============================] - 30s 55ms/step - loss: 0.6828 - accuracy: 0.7964 - val_loss: 0.3620 - val_accuracy: 0.9016\n",
            "Epoch 2/10\n",
            "391/391 [==============================] - 21s 55ms/step - loss: 0.2494 - accuracy: 0.9407 - val_loss: 0.3643 - val_accuracy: 0.9120\n"
          ]
        }
      ]
    },
    {
      "cell_type": "code",
      "source": [
        "## 对测试集进行预测\n",
        "test_pre = model.predict(test_seq_mat)\n",
        "\n",
        "## 评价预测效果，计算混淆矩阵\n",
        "confm = metrics.confusion_matrix(np.argmax(test_pre,axis=1),np.argmax(test_y,axis=1))\n",
        "## 混淆矩阵可视化\n",
        "Labname = [\"体育\",\"娱乐\",\"家居\",\"房产\",\"教育\",\"时尚\",\"时政\",\"游戏\",\"科技\",\"财经\"]\n",
        "plt.figure(figsize=(8,8))\n",
        "sns.heatmap(confm.T, square=True, annot=True,\n",
        "            fmt='d', cbar=False,linewidths=.8,\n",
        "            cmap=\"YlGnBu\")\n",
        "plt.xlabel('True label',size = 14)\n",
        "plt.ylabel('Predicted label',size = 14)\n",
        "plt.xticks(np.arange(10)+0.5,Labname,size = 12)\n",
        "plt.yticks(np.arange(10)+0.3,Labname,size = 12)\n",
        "plt.show()\n",
        "\n",
        "\n",
        "print(metrics.classification_report(np.argmax(test_pre,axis=1),np.argmax(test_y,axis=1)))\n"
      ],
      "metadata": {
        "id": "gfCo4sEtF5lP",
        "colab": {
          "base_uri": "https://localhost:8080/",
          "height": 1000
        },
        "outputId": "19f936de-d61d-45b4-e403-fd647a838215"
      },
      "execution_count": null,
      "outputs": [
        {
          "output_type": "stream",
          "name": "stdout",
          "text": [
            "313/313 [==============================] - 10s 31ms/step\n"
          ]
        },
        {
          "output_type": "stream",
          "name": "stderr",
          "text": [
            "/usr/local/lib/python3.8/dist-packages/matplotlib/backends/backend_agg.py:214: RuntimeWarning: Glyph 20307 missing from current font.\n",
            "  font.set_text(s, 0.0, flags=flags)\n",
            "/usr/local/lib/python3.8/dist-packages/matplotlib/backends/backend_agg.py:214: RuntimeWarning: Glyph 32946 missing from current font.\n",
            "  font.set_text(s, 0.0, flags=flags)\n",
            "/usr/local/lib/python3.8/dist-packages/matplotlib/backends/backend_agg.py:214: RuntimeWarning: Glyph 23089 missing from current font.\n",
            "  font.set_text(s, 0.0, flags=flags)\n",
            "/usr/local/lib/python3.8/dist-packages/matplotlib/backends/backend_agg.py:214: RuntimeWarning: Glyph 20048 missing from current font.\n",
            "  font.set_text(s, 0.0, flags=flags)\n",
            "/usr/local/lib/python3.8/dist-packages/matplotlib/backends/backend_agg.py:214: RuntimeWarning: Glyph 23478 missing from current font.\n",
            "  font.set_text(s, 0.0, flags=flags)\n",
            "/usr/local/lib/python3.8/dist-packages/matplotlib/backends/backend_agg.py:214: RuntimeWarning: Glyph 23621 missing from current font.\n",
            "  font.set_text(s, 0.0, flags=flags)\n",
            "/usr/local/lib/python3.8/dist-packages/matplotlib/backends/backend_agg.py:214: RuntimeWarning: Glyph 25151 missing from current font.\n",
            "  font.set_text(s, 0.0, flags=flags)\n",
            "/usr/local/lib/python3.8/dist-packages/matplotlib/backends/backend_agg.py:214: RuntimeWarning: Glyph 20135 missing from current font.\n",
            "  font.set_text(s, 0.0, flags=flags)\n",
            "/usr/local/lib/python3.8/dist-packages/matplotlib/backends/backend_agg.py:214: RuntimeWarning: Glyph 25945 missing from current font.\n",
            "  font.set_text(s, 0.0, flags=flags)\n",
            "/usr/local/lib/python3.8/dist-packages/matplotlib/backends/backend_agg.py:214: RuntimeWarning: Glyph 26102 missing from current font.\n",
            "  font.set_text(s, 0.0, flags=flags)\n",
            "/usr/local/lib/python3.8/dist-packages/matplotlib/backends/backend_agg.py:214: RuntimeWarning: Glyph 23578 missing from current font.\n",
            "  font.set_text(s, 0.0, flags=flags)\n",
            "/usr/local/lib/python3.8/dist-packages/matplotlib/backends/backend_agg.py:214: RuntimeWarning: Glyph 25919 missing from current font.\n",
            "  font.set_text(s, 0.0, flags=flags)\n",
            "/usr/local/lib/python3.8/dist-packages/matplotlib/backends/backend_agg.py:214: RuntimeWarning: Glyph 28216 missing from current font.\n",
            "  font.set_text(s, 0.0, flags=flags)\n",
            "/usr/local/lib/python3.8/dist-packages/matplotlib/backends/backend_agg.py:214: RuntimeWarning: Glyph 25103 missing from current font.\n",
            "  font.set_text(s, 0.0, flags=flags)\n",
            "/usr/local/lib/python3.8/dist-packages/matplotlib/backends/backend_agg.py:214: RuntimeWarning: Glyph 31185 missing from current font.\n",
            "  font.set_text(s, 0.0, flags=flags)\n",
            "/usr/local/lib/python3.8/dist-packages/matplotlib/backends/backend_agg.py:214: RuntimeWarning: Glyph 25216 missing from current font.\n",
            "  font.set_text(s, 0.0, flags=flags)\n",
            "/usr/local/lib/python3.8/dist-packages/matplotlib/backends/backend_agg.py:214: RuntimeWarning: Glyph 36130 missing from current font.\n",
            "  font.set_text(s, 0.0, flags=flags)\n",
            "/usr/local/lib/python3.8/dist-packages/matplotlib/backends/backend_agg.py:214: RuntimeWarning: Glyph 32463 missing from current font.\n",
            "  font.set_text(s, 0.0, flags=flags)\n",
            "/usr/local/lib/python3.8/dist-packages/matplotlib/backends/backend_agg.py:183: RuntimeWarning: Glyph 20307 missing from current font.\n",
            "  font.set_text(s, 0, flags=flags)\n",
            "/usr/local/lib/python3.8/dist-packages/matplotlib/backends/backend_agg.py:183: RuntimeWarning: Glyph 32946 missing from current font.\n",
            "  font.set_text(s, 0, flags=flags)\n",
            "/usr/local/lib/python3.8/dist-packages/matplotlib/backends/backend_agg.py:183: RuntimeWarning: Glyph 23089 missing from current font.\n",
            "  font.set_text(s, 0, flags=flags)\n",
            "/usr/local/lib/python3.8/dist-packages/matplotlib/backends/backend_agg.py:183: RuntimeWarning: Glyph 20048 missing from current font.\n",
            "  font.set_text(s, 0, flags=flags)\n",
            "/usr/local/lib/python3.8/dist-packages/matplotlib/backends/backend_agg.py:183: RuntimeWarning: Glyph 23478 missing from current font.\n",
            "  font.set_text(s, 0, flags=flags)\n",
            "/usr/local/lib/python3.8/dist-packages/matplotlib/backends/backend_agg.py:183: RuntimeWarning: Glyph 23621 missing from current font.\n",
            "  font.set_text(s, 0, flags=flags)\n",
            "/usr/local/lib/python3.8/dist-packages/matplotlib/backends/backend_agg.py:183: RuntimeWarning: Glyph 25151 missing from current font.\n",
            "  font.set_text(s, 0, flags=flags)\n",
            "/usr/local/lib/python3.8/dist-packages/matplotlib/backends/backend_agg.py:183: RuntimeWarning: Glyph 20135 missing from current font.\n",
            "  font.set_text(s, 0, flags=flags)\n",
            "/usr/local/lib/python3.8/dist-packages/matplotlib/backends/backend_agg.py:183: RuntimeWarning: Glyph 25945 missing from current font.\n",
            "  font.set_text(s, 0, flags=flags)\n",
            "/usr/local/lib/python3.8/dist-packages/matplotlib/backends/backend_agg.py:183: RuntimeWarning: Glyph 26102 missing from current font.\n",
            "  font.set_text(s, 0, flags=flags)\n",
            "/usr/local/lib/python3.8/dist-packages/matplotlib/backends/backend_agg.py:183: RuntimeWarning: Glyph 23578 missing from current font.\n",
            "  font.set_text(s, 0, flags=flags)\n",
            "/usr/local/lib/python3.8/dist-packages/matplotlib/backends/backend_agg.py:183: RuntimeWarning: Glyph 25919 missing from current font.\n",
            "  font.set_text(s, 0, flags=flags)\n",
            "/usr/local/lib/python3.8/dist-packages/matplotlib/backends/backend_agg.py:183: RuntimeWarning: Glyph 28216 missing from current font.\n",
            "  font.set_text(s, 0, flags=flags)\n",
            "/usr/local/lib/python3.8/dist-packages/matplotlib/backends/backend_agg.py:183: RuntimeWarning: Glyph 25103 missing from current font.\n",
            "  font.set_text(s, 0, flags=flags)\n",
            "/usr/local/lib/python3.8/dist-packages/matplotlib/backends/backend_agg.py:183: RuntimeWarning: Glyph 31185 missing from current font.\n",
            "  font.set_text(s, 0, flags=flags)\n",
            "/usr/local/lib/python3.8/dist-packages/matplotlib/backends/backend_agg.py:183: RuntimeWarning: Glyph 25216 missing from current font.\n",
            "  font.set_text(s, 0, flags=flags)\n",
            "/usr/local/lib/python3.8/dist-packages/matplotlib/backends/backend_agg.py:183: RuntimeWarning: Glyph 36130 missing from current font.\n",
            "  font.set_text(s, 0, flags=flags)\n",
            "/usr/local/lib/python3.8/dist-packages/matplotlib/backends/backend_agg.py:183: RuntimeWarning: Glyph 32463 missing from current font.\n",
            "  font.set_text(s, 0, flags=flags)\n"
          ]
        },
        {
          "output_type": "display_data",
          "data": {
            "text/plain": [
              "<Figure size 576x576 with 1 Axes>"
            ],
            "image/png": "[encoded data removed]"
          },
          "metadata": {
            "image/png": {
              "width": 486,
              "height": 486
            },
            "needs_background": "light"
          }
        },
        {
          "output_type": "stream",
          "name": "stdout",
          "text": [
            "              precision    recall  f1-score   support\n",
            "\n",
            "           0       0.99      0.99      0.99       996\n",
            "           1       0.98      0.88      0.93      1116\n",
            "           2       0.77      0.92      0.84       829\n",
            "           3       0.93      0.99      0.96       939\n",
            "           4       0.90      0.94      0.92       959\n",
            "           5       0.95      0.96      0.95       989\n",
            "           6       0.97      0.87      0.92      1112\n",
            "           7       0.98      0.96      0.97      1024\n",
            "           8       0.93      0.95      0.94       972\n",
            "           9       0.97      0.92      0.94      1064\n",
            "\n",
            "    accuracy                           0.94     10000\n",
            "   macro avg       0.94      0.94      0.94     10000\n",
            "weighted avg       0.94      0.94      0.94     10000\n",
            "\n"
          ]
        }
      ]
    },
    {
      "cell_type": "code",
      "source": [
        "tok = Tokenizer(num_words=max_words)\n",
        "tok.fit_on_texts(train_df.cutword)"
      ],
      "metadata": {
        "id": "CeTNAhWzF_tv"
      },
      "execution_count": null,
      "outputs": []
    },
    {
      "cell_type": "code",
      "source": [
        "## 保存训练好的Tokenizer，和导入\n",
        "import pickle\n",
        "# saving\n",
        "with open('tok.pickle', 'wb') as handle:\n",
        "    pickle.dump(tok, handle, protocol=pickle.HIGHEST_PROTOCOL)\n",
        "\n",
        "# loading\n",
        "with open('tok.pickle', 'rb') as handle:\n",
        "    tok = pickle.load(handle)"
      ],
      "metadata": {
        "id": "AhMBPSQuGB-3"
      },
      "execution_count": null,
      "outputs": []
    }
  ]
}